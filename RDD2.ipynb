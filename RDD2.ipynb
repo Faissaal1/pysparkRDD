{
  "nbformat": 4,
  "nbformat_minor": 0,
  "metadata": {
    "colab": {
      "provenance": []
    },
    "kernelspec": {
      "name": "python3",
      "display_name": "Python 3"
    },
    "language_info": {
      "name": "python"
    }
  },
  "cells": [
    {
      "cell_type": "code",
      "execution_count": null,
      "metadata": {
        "id": "d7-OV0UGGiHs",
        "colab": {
          "base_uri": "https://localhost:8080/"
        },
        "outputId": "a5cc8e96-b6ae-4246-b900-96dd961be58b"
      },
      "outputs": [
        {
          "output_type": "stream",
          "name": "stdout",
          "text": [
            "Collecting pyspark\n",
            "  Downloading pyspark-3.5.0.tar.gz (316.9 MB)\n",
            "\u001b[2K     \u001b[90m━━━━━━━━━━━━━━━━━━━━━━━━━━━━━━━━━━━━━━━\u001b[0m \u001b[32m316.9/316.9 MB\u001b[0m \u001b[31m3.5 MB/s\u001b[0m eta \u001b[36m0:00:00\u001b[0m\n",
            "\u001b[?25h  Preparing metadata (setup.py) ... \u001b[?25l\u001b[?25hdone\n",
            "Requirement already satisfied: py4j==0.10.9.7 in /usr/local/lib/python3.10/dist-packages (from pyspark) (0.10.9.7)\n",
            "Building wheels for collected packages: pyspark\n",
            "  Building wheel for pyspark (setup.py) ... \u001b[?25l\u001b[?25hdone\n",
            "  Created wheel for pyspark: filename=pyspark-3.5.0-py2.py3-none-any.whl size=317425344 sha256=77ed8eb4c702c130d9f0916d07a7268d439cebdbcc28d9fe930cd1e35b1002d3\n",
            "  Stored in directory: /root/.cache/pip/wheels/41/4e/10/c2cf2467f71c678cfc8a6b9ac9241e5e44a01940da8fbb17fc\n",
            "Successfully built pyspark\n",
            "Installing collected packages: pyspark\n",
            "Successfully installed pyspark-3.5.0\n"
          ]
        }
      ],
      "source": [
        "! pip install pyspark"
      ]
    },
    {
      "cell_type": "code",
      "source": [
        "\n",
        "from pyspark.sql import SparkSession\n",
        "\n",
        "spark = SparkSession.builder.appName(\"LectureFichier\").getOrCreate()"
      ],
      "metadata": {
        "id": "IfE2DuusE_q6"
      },
      "execution_count": null,
      "outputs": []
    },
    {
      "cell_type": "code",
      "source": [
        "spark = SparkSession.builder.appName(\"LectureFichier\").getOrCreate()"
      ],
      "metadata": {
        "id": "9Zp1kXA6Z1TR"
      },
      "execution_count": null,
      "outputs": []
    },
    {
      "cell_type": "code",
      "source": [
        "text = \"  Lorem ipsum dolor sit amet, consectetur adipiscing elit. Fusce sed magna malesuada, posuere dui at, sodales nisl. Ut venenatis nulla eu semper malesuada. Curabitur laoreet lacus ante, ut congue orci sodales vel. Sed vitae dui vitae ipsum dictum accumsan ac non ligula. Donec luctus bibendum ex ut eleifend. Morbi interdum pretium varius. Aliquam bibendum, mauris in vestibulum convallis, lectus ligula ultrices magna, sit amet tincidunt risus mi eu sem. Nulla laoreet feugiat mi id viverra. Integer at mauris ut enim mollis convallis. Vestibulum luctus bibendum leo a dictum.Suspendisse a blandit mauris. Integer non dui odio. Vestibulum gravida nisi turpis, sed eleifend libero convallis sit amet. Nunc iaculis sodales neque eget iaculis. Duis velit erat, mollis at turpis vel, iaculis tincidunt lectus. Fusce ut odio sed nunc malesuada volutpat in eget nibh. Duis quis nulla suscipit, suscipit justo in, rutrum justo. Vivamus lacinia eros orci, et euismod diam iaculis quis. Suspendisse ut dui risus. Duis varius feugiat ante, sed elementum eros lobortis et. Maecenas a nisi nec metus sagittis faucibus. Sed tristique ullamcorper tellus non rhoncus. Duis eget dolor nisl. Fusce sit amet augue tincidunt, tincidunt dui vel, pellentesque justo. Quisque eu tellus sapien.Vestibulum nec interdum enim, ac sollicitudin arcu. Etiam pulvinar risus et lacinia cursus. Vestibulum scelerisque ex ac tortor ullamcorper, et tincidunt risus auctor. Cras neque tortor, sollicitudin eu enim ac, lacinia eleifend neque. Morbi eget pharetra felis, nec placerat odio. Vestibulum ante ipsum primis in faucibus orci luctus et ultrices posuere cubilia curae; Nunc at libero quis felis fermentum dictum at nec mauris.Donec porttitor congue purus, et volutpat magna tincidunt eu. Pellentesque faucibus eros et est sollicitudin, at facilisis felis aliquam. Nam ac consequat ex, vel ornare quam. Sed leo dui, lobortis et ipsum id, lacinia cursus mauris. Pellentesque id fermentum justo, ac sollicitudin est. Aenean a risus leo. Sed ornare lorem mollis quam placerat auctor. Proin leo sem, pretium non libero ac, condimentum tristique risus. Nullam laoreet nunc non lectus imperdiet, nec maximus elit varius. Nam faucibus orci tortor, nec ornare nisi commodo non.Curabitur posuere erat sed metus semper, vitae tempus elit consequat. Pellentesque vitae magna non leo tincidunt sagittis. Curabitur ac quam mi. Curabitur feugiat sem vel dolor accumsan, quis accumsan dolor maximus. Praesent ac ante quis purus iaculis fermentum et ut libero. Nullam volutpat erat ut sapien pretium venenatis. Mauris euismod, leo non placerat sodales, tellus tellus viverra mi, id bibendum sapien libero a ante. Ut eleifend tortor sed mi efficitur, nec malesuada felis volutpat\"\n",
        "rdd = spark.sparkContext.parallelize([text])"
      ],
      "metadata": {
        "id": "TbdEWMkaJAGg"
      },
      "execution_count": null,
      "outputs": []
    },
    {
      "cell_type": "markdown",
      "source": [],
      "metadata": {
        "id": "Xfs1ma_jGUPg"
      }
    },
    {
      "cell_type": "code",
      "source": [
        "\n",
        "\n"
      ],
      "metadata": {
        "id": "M6h1iTc9cYWB"
      },
      "execution_count": null,
      "outputs": []
    },
    {
      "cell_type": "code",
      "source": [
        "!ls"
      ],
      "metadata": {
        "colab": {
          "base_uri": "https://localhost:8080/"
        },
        "id": "gC1aItkEGcaC",
        "outputId": "26cece6f-d189-4e49-e7f9-2ea064f1fb5d"
      },
      "execution_count": null,
      "outputs": [
        {
          "output_type": "stream",
          "name": "stdout",
          "text": [
            "sample_data\n"
          ]
        }
      ]
    },
    {
      "cell_type": "code",
      "source": [
        "rdd.take(5)"
      ],
      "metadata": {
        "colab": {
          "base_uri": "https://localhost:8080/"
        },
        "id": "ngjFzIWrHS6a",
        "outputId": "16c29956-6c49-4657-9917-3766101b481d"
      },
      "execution_count": null,
      "outputs": [
        {
          "output_type": "execute_result",
          "data": {
            "text/plain": [
              "['  Lorem ipsum dolor sit amet, consectetur adipiscing elit. Fusce sed magna malesuada, posuere dui at, sodales nisl. Ut venenatis nulla eu semper malesuada. Curabitur laoreet lacus ante, ut congue orci sodales vel. Sed vitae dui vitae ipsum dictum accumsan ac non ligula. Donec luctus bibendum ex ut eleifend. Morbi interdum pretium varius. Aliquam bibendum, mauris in vestibulum convallis, lectus ligula ultrices magna, sit amet tincidunt risus mi eu sem. Nulla laoreet feugiat mi id viverra. Integer at mauris ut enim mollis convallis. Vestibulum luctus bibendum leo a dictum.Suspendisse a blandit mauris. Integer non dui odio. Vestibulum gravida nisi turpis, sed eleifend libero convallis sit amet. Nunc iaculis sodales neque eget iaculis. Duis velit erat, mollis at turpis vel, iaculis tincidunt lectus. Fusce ut odio sed nunc malesuada volutpat in eget nibh. Duis quis nulla suscipit, suscipit justo in, rutrum justo. Vivamus lacinia eros orci, et euismod diam iaculis quis. Suspendisse ut dui risus. Duis varius feugiat ante, sed elementum eros lobortis et. Maecenas a nisi nec metus sagittis faucibus. Sed tristique ullamcorper tellus non rhoncus. Duis eget dolor nisl. Fusce sit amet augue tincidunt, tincidunt dui vel, pellentesque justo. Quisque eu tellus sapien.Vestibulum nec interdum enim, ac sollicitudin arcu. Etiam pulvinar risus et lacinia cursus. Vestibulum scelerisque ex ac tortor ullamcorper, et tincidunt risus auctor. Cras neque tortor, sollicitudin eu enim ac, lacinia eleifend neque. Morbi eget pharetra felis, nec placerat odio. Vestibulum ante ipsum primis in faucibus orci luctus et ultrices posuere cubilia curae; Nunc at libero quis felis fermentum dictum at nec mauris.Donec porttitor congue purus, et volutpat magna tincidunt eu. Pellentesque faucibus eros et est sollicitudin, at facilisis felis aliquam. Nam ac consequat ex, vel ornare quam. Sed leo dui, lobortis et ipsum id, lacinia cursus mauris. Pellentesque id fermentum justo, ac sollicitudin est. Aenean a risus leo. Sed ornare lorem mollis quam placerat auctor. Proin leo sem, pretium non libero ac, condimentum tristique risus. Nullam laoreet nunc non lectus imperdiet, nec maximus elit varius. Nam faucibus orci tortor, nec ornare nisi commodo non.Curabitur posuere erat sed metus semper, vitae tempus elit consequat. Pellentesque vitae magna non leo tincidunt sagittis. Curabitur ac quam mi. Curabitur feugiat sem vel dolor accumsan, quis accumsan dolor maximus. Praesent ac ante quis purus iaculis fermentum et ut libero. Nullam volutpat erat ut sapien pretium venenatis. Mauris euismod, leo non placerat sodales, tellus tellus viverra mi, id bibendum sapien libero a ante. Ut eleifend tortor sed mi efficitur, nec malesuada felis volutpat']"
            ]
          },
          "metadata": {},
          "execution_count": 8
        }
      ]
    },
    {
      "cell_type": "code",
      "source": [
        "def Func(lines):\n",
        "    lines = lines.lower()\n",
        "    lines = lines.split()\n",
        "    return lines\n"
      ],
      "metadata": {
        "id": "5Vrneb0hHg2I"
      },
      "execution_count": null,
      "outputs": []
    },
    {
      "cell_type": "code",
      "source": [
        "rdd1 = rdd.map(Func)"
      ],
      "metadata": {
        "id": "_EzEiO7tIYRI"
      },
      "execution_count": null,
      "outputs": []
    },
    {
      "cell_type": "code",
      "source": [
        "\n",
        "rdd1.take(5)"
      ],
      "metadata": {
        "colab": {
          "base_uri": "https://localhost:8080/"
        },
        "id": "53qGo9HNKJF5",
        "outputId": "f887aa82-b85c-4b4d-d57a-be7b69eeb34f"
      },
      "execution_count": null,
      "outputs": [
        {
          "output_type": "execute_result",
          "data": {
            "text/plain": [
              "[['lorem',\n",
              "  'ipsum',\n",
              "  'dolor',\n",
              "  'sit',\n",
              "  'amet,',\n",
              "  'consectetur',\n",
              "  'adipiscing',\n",
              "  'elit.',\n",
              "  'fusce',\n",
              "  'sed',\n",
              "  'magna',\n",
              "  'malesuada,',\n",
              "  'posuere',\n",
              "  'dui',\n",
              "  'at,',\n",
              "  'sodales',\n",
              "  'nisl.',\n",
              "  'ut',\n",
              "  'venenatis',\n",
              "  'nulla',\n",
              "  'eu',\n",
              "  'semper',\n",
              "  'malesuada.',\n",
              "  'curabitur',\n",
              "  'laoreet',\n",
              "  'lacus',\n",
              "  'ante,',\n",
              "  'ut',\n",
              "  'congue',\n",
              "  'orci',\n",
              "  'sodales',\n",
              "  'vel.',\n",
              "  'sed',\n",
              "  'vitae',\n",
              "  'dui',\n",
              "  'vitae',\n",
              "  'ipsum',\n",
              "  'dictum',\n",
              "  'accumsan',\n",
              "  'ac',\n",
              "  'non',\n",
              "  'ligula.',\n",
              "  'donec',\n",
              "  'luctus',\n",
              "  'bibendum',\n",
              "  'ex',\n",
              "  'ut',\n",
              "  'eleifend.',\n",
              "  'morbi',\n",
              "  'interdum',\n",
              "  'pretium',\n",
              "  'varius.',\n",
              "  'aliquam',\n",
              "  'bibendum,',\n",
              "  'mauris',\n",
              "  'in',\n",
              "  'vestibulum',\n",
              "  'convallis,',\n",
              "  'lectus',\n",
              "  'ligula',\n",
              "  'ultrices',\n",
              "  'magna,',\n",
              "  'sit',\n",
              "  'amet',\n",
              "  'tincidunt',\n",
              "  'risus',\n",
              "  'mi',\n",
              "  'eu',\n",
              "  'sem.',\n",
              "  'nulla',\n",
              "  'laoreet',\n",
              "  'feugiat',\n",
              "  'mi',\n",
              "  'id',\n",
              "  'viverra.',\n",
              "  'integer',\n",
              "  'at',\n",
              "  'mauris',\n",
              "  'ut',\n",
              "  'enim',\n",
              "  'mollis',\n",
              "  'convallis.',\n",
              "  'vestibulum',\n",
              "  'luctus',\n",
              "  'bibendum',\n",
              "  'leo',\n",
              "  'a',\n",
              "  'dictum.suspendisse',\n",
              "  'a',\n",
              "  'blandit',\n",
              "  'mauris.',\n",
              "  'integer',\n",
              "  'non',\n",
              "  'dui',\n",
              "  'odio.',\n",
              "  'vestibulum',\n",
              "  'gravida',\n",
              "  'nisi',\n",
              "  'turpis,',\n",
              "  'sed',\n",
              "  'eleifend',\n",
              "  'libero',\n",
              "  'convallis',\n",
              "  'sit',\n",
              "  'amet.',\n",
              "  'nunc',\n",
              "  'iaculis',\n",
              "  'sodales',\n",
              "  'neque',\n",
              "  'eget',\n",
              "  'iaculis.',\n",
              "  'duis',\n",
              "  'velit',\n",
              "  'erat,',\n",
              "  'mollis',\n",
              "  'at',\n",
              "  'turpis',\n",
              "  'vel,',\n",
              "  'iaculis',\n",
              "  'tincidunt',\n",
              "  'lectus.',\n",
              "  'fusce',\n",
              "  'ut',\n",
              "  'odio',\n",
              "  'sed',\n",
              "  'nunc',\n",
              "  'malesuada',\n",
              "  'volutpat',\n",
              "  'in',\n",
              "  'eget',\n",
              "  'nibh.',\n",
              "  'duis',\n",
              "  'quis',\n",
              "  'nulla',\n",
              "  'suscipit,',\n",
              "  'suscipit',\n",
              "  'justo',\n",
              "  'in,',\n",
              "  'rutrum',\n",
              "  'justo.',\n",
              "  'vivamus',\n",
              "  'lacinia',\n",
              "  'eros',\n",
              "  'orci,',\n",
              "  'et',\n",
              "  'euismod',\n",
              "  'diam',\n",
              "  'iaculis',\n",
              "  'quis.',\n",
              "  'suspendisse',\n",
              "  'ut',\n",
              "  'dui',\n",
              "  'risus.',\n",
              "  'duis',\n",
              "  'varius',\n",
              "  'feugiat',\n",
              "  'ante,',\n",
              "  'sed',\n",
              "  'elementum',\n",
              "  'eros',\n",
              "  'lobortis',\n",
              "  'et.',\n",
              "  'maecenas',\n",
              "  'a',\n",
              "  'nisi',\n",
              "  'nec',\n",
              "  'metus',\n",
              "  'sagittis',\n",
              "  'faucibus.',\n",
              "  'sed',\n",
              "  'tristique',\n",
              "  'ullamcorper',\n",
              "  'tellus',\n",
              "  'non',\n",
              "  'rhoncus.',\n",
              "  'duis',\n",
              "  'eget',\n",
              "  'dolor',\n",
              "  'nisl.',\n",
              "  'fusce',\n",
              "  'sit',\n",
              "  'amet',\n",
              "  'augue',\n",
              "  'tincidunt,',\n",
              "  'tincidunt',\n",
              "  'dui',\n",
              "  'vel,',\n",
              "  'pellentesque',\n",
              "  'justo.',\n",
              "  'quisque',\n",
              "  'eu',\n",
              "  'tellus',\n",
              "  'sapien.vestibulum',\n",
              "  'nec',\n",
              "  'interdum',\n",
              "  'enim,',\n",
              "  'ac',\n",
              "  'sollicitudin',\n",
              "  'arcu.',\n",
              "  'etiam',\n",
              "  'pulvinar',\n",
              "  'risus',\n",
              "  'et',\n",
              "  'lacinia',\n",
              "  'cursus.',\n",
              "  'vestibulum',\n",
              "  'scelerisque',\n",
              "  'ex',\n",
              "  'ac',\n",
              "  'tortor',\n",
              "  'ullamcorper,',\n",
              "  'et',\n",
              "  'tincidunt',\n",
              "  'risus',\n",
              "  'auctor.',\n",
              "  'cras',\n",
              "  'neque',\n",
              "  'tortor,',\n",
              "  'sollicitudin',\n",
              "  'eu',\n",
              "  'enim',\n",
              "  'ac,',\n",
              "  'lacinia',\n",
              "  'eleifend',\n",
              "  'neque.',\n",
              "  'morbi',\n",
              "  'eget',\n",
              "  'pharetra',\n",
              "  'felis,',\n",
              "  'nec',\n",
              "  'placerat',\n",
              "  'odio.',\n",
              "  'vestibulum',\n",
              "  'ante',\n",
              "  'ipsum',\n",
              "  'primis',\n",
              "  'in',\n",
              "  'faucibus',\n",
              "  'orci',\n",
              "  'luctus',\n",
              "  'et',\n",
              "  'ultrices',\n",
              "  'posuere',\n",
              "  'cubilia',\n",
              "  'curae;',\n",
              "  'nunc',\n",
              "  'at',\n",
              "  'libero',\n",
              "  'quis',\n",
              "  'felis',\n",
              "  'fermentum',\n",
              "  'dictum',\n",
              "  'at',\n",
              "  'nec',\n",
              "  'mauris.donec',\n",
              "  'porttitor',\n",
              "  'congue',\n",
              "  'purus,',\n",
              "  'et',\n",
              "  'volutpat',\n",
              "  'magna',\n",
              "  'tincidunt',\n",
              "  'eu.',\n",
              "  'pellentesque',\n",
              "  'faucibus',\n",
              "  'eros',\n",
              "  'et',\n",
              "  'est',\n",
              "  'sollicitudin,',\n",
              "  'at',\n",
              "  'facilisis',\n",
              "  'felis',\n",
              "  'aliquam.',\n",
              "  'nam',\n",
              "  'ac',\n",
              "  'consequat',\n",
              "  'ex,',\n",
              "  'vel',\n",
              "  'ornare',\n",
              "  'quam.',\n",
              "  'sed',\n",
              "  'leo',\n",
              "  'dui,',\n",
              "  'lobortis',\n",
              "  'et',\n",
              "  'ipsum',\n",
              "  'id,',\n",
              "  'lacinia',\n",
              "  'cursus',\n",
              "  'mauris.',\n",
              "  'pellentesque',\n",
              "  'id',\n",
              "  'fermentum',\n",
              "  'justo,',\n",
              "  'ac',\n",
              "  'sollicitudin',\n",
              "  'est.',\n",
              "  'aenean',\n",
              "  'a',\n",
              "  'risus',\n",
              "  'leo.',\n",
              "  'sed',\n",
              "  'ornare',\n",
              "  'lorem',\n",
              "  'mollis',\n",
              "  'quam',\n",
              "  'placerat',\n",
              "  'auctor.',\n",
              "  'proin',\n",
              "  'leo',\n",
              "  'sem,',\n",
              "  'pretium',\n",
              "  'non',\n",
              "  'libero',\n",
              "  'ac,',\n",
              "  'condimentum',\n",
              "  'tristique',\n",
              "  'risus.',\n",
              "  'nullam',\n",
              "  'laoreet',\n",
              "  'nunc',\n",
              "  'non',\n",
              "  'lectus',\n",
              "  'imperdiet,',\n",
              "  'nec',\n",
              "  'maximus',\n",
              "  'elit',\n",
              "  'varius.',\n",
              "  'nam',\n",
              "  'faucibus',\n",
              "  'orci',\n",
              "  'tortor,',\n",
              "  'nec',\n",
              "  'ornare',\n",
              "  'nisi',\n",
              "  'commodo',\n",
              "  'non.curabitur',\n",
              "  'posuere',\n",
              "  'erat',\n",
              "  'sed',\n",
              "  'metus',\n",
              "  'semper,',\n",
              "  'vitae',\n",
              "  'tempus',\n",
              "  'elit',\n",
              "  'consequat.',\n",
              "  'pellentesque',\n",
              "  'vitae',\n",
              "  'magna',\n",
              "  'non',\n",
              "  'leo',\n",
              "  'tincidunt',\n",
              "  'sagittis.',\n",
              "  'curabitur',\n",
              "  'ac',\n",
              "  'quam',\n",
              "  'mi.',\n",
              "  'curabitur',\n",
              "  'feugiat',\n",
              "  'sem',\n",
              "  'vel',\n",
              "  'dolor',\n",
              "  'accumsan,',\n",
              "  'quis',\n",
              "  'accumsan',\n",
              "  'dolor',\n",
              "  'maximus.',\n",
              "  'praesent',\n",
              "  'ac',\n",
              "  'ante',\n",
              "  'quis',\n",
              "  'purus',\n",
              "  'iaculis',\n",
              "  'fermentum',\n",
              "  'et',\n",
              "  'ut',\n",
              "  'libero.',\n",
              "  'nullam',\n",
              "  'volutpat',\n",
              "  'erat',\n",
              "  'ut',\n",
              "  'sapien',\n",
              "  'pretium',\n",
              "  'venenatis.',\n",
              "  'mauris',\n",
              "  'euismod,',\n",
              "  'leo',\n",
              "  'non',\n",
              "  'placerat',\n",
              "  'sodales,',\n",
              "  'tellus',\n",
              "  'tellus',\n",
              "  'viverra',\n",
              "  'mi,',\n",
              "  'id',\n",
              "  'bibendum',\n",
              "  'sapien',\n",
              "  'libero',\n",
              "  'a',\n",
              "  'ante.',\n",
              "  'ut',\n",
              "  'eleifend',\n",
              "  'tortor',\n",
              "  'sed',\n",
              "  'mi',\n",
              "  'efficitur,',\n",
              "  'nec',\n",
              "  'malesuada',\n",
              "  'felis',\n",
              "  'volutpat']]"
            ]
          },
          "metadata": {},
          "execution_count": 11
        }
      ]
    },
    {
      "cell_type": "code",
      "source": [
        "rdd2 = rdd.flatMap(Func)\n",
        "rdd2.take(5)"
      ],
      "metadata": {
        "colab": {
          "base_uri": "https://localhost:8080/"
        },
        "id": "xAlpndobeCjX",
        "outputId": "1c3315c0-fa5e-4cac-a4d2-951757c38273"
      },
      "execution_count": null,
      "outputs": [
        {
          "output_type": "execute_result",
          "data": {
            "text/plain": [
              "['lorem', 'ipsum', 'dolor', 'sit', 'amet,']"
            ]
          },
          "metadata": {},
          "execution_count": 13
        }
      ]
    },
    {
      "cell_type": "code",
      "source": [
        "stopword = ['lors','au', 'aucuns', 'aussi', 'autre', 'avant', 'avec', 'avoir','bon', 'car', 'ce', 'cela']\n",
        "rdd3 = rdd2.filter(lambda x: x  not in stopword)\n",
        "rdd3.take(10)\n"
      ],
      "metadata": {
        "colab": {
          "base_uri": "https://localhost:8080/"
        },
        "id": "HyQC5cZ8Kr_f",
        "outputId": "9521157f-95f1-4f89-f02f-6502d7df0cbd"
      },
      "execution_count": null,
      "outputs": [
        {
          "output_type": "execute_result",
          "data": {
            "text/plain": [
              "['lorem',\n",
              " 'ipsum',\n",
              " 'dolor',\n",
              " 'sit',\n",
              " 'amet,',\n",
              " 'consectetur',\n",
              " 'adipiscing',\n",
              " 'elit.',\n",
              " 'fusce',\n",
              " 'sed']"
            ]
          },
          "metadata": {},
          "execution_count": 14
        }
      ]
    },
    {
      "cell_type": "code",
      "source": [
        "list1 = [\"a\", \"b\", \"c\", \"d\"]\n",
        "list2 = [1, 2, 3, 4]"
      ],
      "metadata": {
        "id": "EJteFfI8e6iV"
      },
      "execution_count": null,
      "outputs": []
    },
    {
      "cell_type": "code",
      "source": [
        "rdd = spark.sparkContext.parallelize(list(zip(list1, list2)))\n",
        "df = rdd.toDF([\"1\", \"2\"])\n",
        "\n",
        "\n",
        "zip\n",
        "df.show()"
      ],
      "metadata": {
        "colab": {
          "base_uri": "https://localhost:8080/"
        },
        "id": "k5cnf6JOga4r",
        "outputId": "6f6dafdb-4d7a-4289-c471-8cf6d5e6c9a0"
      },
      "execution_count": null,
      "outputs": [
        {
          "output_type": "stream",
          "name": "stdout",
          "text": [
            "+---+---+\n",
            "|  1|  2|\n",
            "+---+---+\n",
            "|  a|  1|\n",
            "|  b|  2|\n",
            "|  c|  3|\n",
            "|  d|  4|\n",
            "+---+---+\n",
            "\n"
          ]
        }
      ]
    },
    {
      "cell_type": "code",
      "source": [
        "df = spark.read.csv(\"Order_v3.csv\", inferSchema= True, header = True)"
      ],
      "metadata": {
        "id": "Wd8YuPpGga-f"
      },
      "execution_count": null,
      "outputs": []
    },
    {
      "cell_type": "code",
      "source": [
        "df.show()"
      ],
      "metadata": {
        "colab": {
          "base_uri": "https://localhost:8080/"
        },
        "id": "fiC6YOmpfqHm",
        "outputId": "215a55c8-6f32-4d4b-b3f5-276b64705151"
      },
      "execution_count": null,
      "outputs": [
        {
          "output_type": "stream",
          "name": "stdout",
          "text": [
            "+---------------+---------+-----------------------------+----------------------------+----------------------------------------------+---------------------------------+-----------+-------------------+-------------------+---------------------+-------------------+-------------------+--------+-------------+----------+------------------+---------+--------------------+-------+--------------------+\n",
            "|orderIdentifier|orderType|vendor.organizationIdentifier|buyer.organizationIdentifier|shipFromInstructionLocation.locationIdentifier|shipToLocation.locationIdentifier|orderStatus|        createdDate|  requestedShipDate|requestedDeliveryDate|    plannedShipDate|plannedDeliveryDate|quantity|quantityUnits|totalValue|orderValueCurrency|lineCount|totalShippedQuantity|exclude|          sourceLink|\n",
            "+---------------+---------+-----------------------------+----------------------------+----------------------------------------------+---------------------------------+-----------+-------------------+-------------------+---------------------+-------------------+-------------------+--------+-------------+----------+------------------+---------+--------------------+-------+--------------------+\n",
            "|      100044349| OUTBOUND|                    LightTree|                        AHTD|                                          LT-1|               AHTD - Bentonville|       NULL|2021-06-08 00:00:00|2021-07-20 00:00:00|  2021-07-30 00:00:00|2021-07-23 00:00:00|2021-07-30 00:00:00|     189|           EA|  236250.0|               USD|        3|                NULL|   NULL|http://lighttree....|\n",
            "|      100044350| OUTBOUND|                    LightTree|                        AHTD|                                          LT-1|               AHTD - Bentonville|       NULL|2021-06-08 00:00:00|2021-07-23 00:00:00|  2021-07-30 00:00:00|2021-07-23 00:00:00|2021-07-30 00:00:00|      20|           EA|   25000.0|               USD|        3|                NULL|   NULL|http://lighttree....|\n",
            "|      100044353| OUTBOUND|                    LightTree|                        AHTD|                                          LT-1|               AHTD - Bentonville|       NULL|2021-06-08 00:00:00|2021-07-13 00:00:00|  2021-07-30 00:00:00|2021-07-23 00:00:00|2021-07-30 00:00:00|     212|           EA|  265000.0|               USD|        3|                NULL|   NULL|http://lighttree....|\n",
            "|      100055001| OUTBOUND|                    LightTree|                        AHTD|                                          LT-2|               AHTD - Bentonville|       NULL|2017-07-11 00:00:00|2021-08-10 00:00:00|  2021-08-18 00:00:00|2021-08-10 00:00:00|2021-08-18 00:00:00|     761|           EA|   59473.0|               USD|        3|                NULL|   NULL|http://lighttree....|\n",
            "|      100055003| OUTBOUND|                    LightTree|                        AHTD|                                          LT-2|               AHTD - Bentonville|       NULL|2017-07-20 00:00:00|2021-08-11 00:00:00|  2021-08-14 00:00:00|2021-08-11 00:00:00|2021-08-14 00:00:00|     520|           EA|   47438.0|               USD|        3|                NULL|   NULL|http://lighttree....|\n",
            "|      100044351| OUTBOUND|                    LightTree|                        AHTD|                                          LT-1|               AHTD - Bentonville|       NULL|2021-06-08 00:00:00|2021-07-08 00:00:00|  2021-07-15 00:00:00|2021-07-08 00:00:00|2021-07-15 00:00:00|      68|           EA|   85000.0|               USD|        3|                NULL|   NULL|http://lighttree....|\n",
            "|      100044352| OUTBOUND|                    LightTree|                        AHTD|                                          LT-1|               AHTD - Bentonville|       NULL|2021-06-08 00:00:00|2021-07-08 00:00:00|  2021-07-15 00:00:00|2021-07-08 00:00:00|2021-07-17 00:00:00|      74|           EA|   92500.0|               USD|        3|                NULL|   NULL|http://lighttree....|\n",
            "|      100044354| OUTBOUND|                    LightTree|                        AHTD|                                          LT-1|               AHTD - Bentonville|       NULL|2021-06-08 00:00:00|2021-06-30 00:00:00|  2021-07-07 00:00:00|2021-06-30 00:00:00|2021-07-07 00:00:00|     208|           EA|  260000.0|               USD|        3|                NULL|   NULL|http://lighttree....|\n",
            "|      100044355| OUTBOUND|                    LightTree|                        AHTD|                                          LT-1|               AHTD - Bentonville|       NULL|2021-06-08 00:00:00|2021-06-30 00:00:00|  2021-07-07 00:00:00|2021-06-30 00:00:00|2021-07-07 00:00:00|     400|           EA|  500000.0|               USD|        3|                NULL|   NULL|http://lighttree....|\n",
            "|      100044343| OUTBOUND|                    LightTree|                     CALTRAN|                                          LT-1|              CALTRAN - San Diego|       NULL|2021-06-11 00:00:00|2021-07-26 00:00:00|  2021-08-03 00:00:00|2021-07-26 00:00:00|2021-08-03 00:00:00|      22|           EA|   27500.0|               USD|        3|                NULL|   NULL|http://lighttree....|\n",
            "|      100044344| OUTBOUND|                    LightTree|                     CALTRAN|                                          LT-1|              CALTRAN - San Diego|       NULL|2021-06-11 00:00:00|2021-07-28 00:00:00|  2021-08-03 00:00:00|2021-07-26 00:00:00|2021-08-03 00:00:00|     302|           EA|  377500.0|               USD|        3|                NULL|   NULL|http://lighttree....|\n",
            "|      100055000| OUTBOUND|                    LightTree|                     CALTRAN|                                          LT-2|              CALTRAN - San Diego|       NULL|2017-07-20 00:00:00|2021-08-11 00:00:00|  2021-08-14 00:00:00|2021-08-11 00:00:00|2021-08-14 00:00:00|     228|           EA|   20084.0|               USD|        3|                NULL|   NULL|http://lighttree....|\n",
            "|      100055002| OUTBOUND|                    LightTree|                     CALTRAN|                                          LT-2|              CALTRAN - San Diego|       NULL|2017-07-07 00:00:00|2021-08-06 00:00:00|  2021-08-12 00:00:00|2021-08-06 00:00:00|2021-08-12 00:00:00|     363|           EA|   29093.0|               USD|        3|                NULL|   NULL|http://lighttree....|\n",
            "|      100055005| OUTBOUND|                    LightTree|                     CALTRAN|                                          LT-2|              CALTRAN - San Diego|       NULL|2017-07-07 00:00:00|2021-08-06 00:00:00|  2021-08-12 00:00:00|2021-08-06 00:00:00|2021-08-12 00:00:00|     154|           EA|   14735.0|               USD|        3|                NULL|   NULL|http://lighttree....|\n",
            "|      100055007| OUTBOUND|                    LightTree|                     CALTRAN|                                          LT-2|              CALTRAN - San Diego|       NULL|2017-07-11 00:00:00|2021-08-10 00:00:00|  2021-08-18 00:00:00|2021-08-10 00:00:00|2021-08-18 00:00:00|     655|           EA|   49240.0|               USD|        3|                NULL|   NULL|http://lighttree....|\n",
            "|      100055009| OUTBOUND|                    LightTree|                     CALTRAN|                                          LT-2|              CALTRAN - San Diego|       NULL|2017-07-07 00:00:00|2021-08-06 00:00:00|  2021-08-12 00:00:00|2021-08-06 00:00:00|2021-08-12 00:00:00|     761|           EA|   62681.0|               USD|        3|                NULL|   NULL|http://lighttree....|\n",
            "|      100044345| OUTBOUND|                    LightTree|                     CALTRAN|                                          LT-1|              CALTRAN - San Diego|       NULL|2021-06-11 00:00:00|2021-06-28 00:00:00|  2021-07-11 00:00:00|2021-07-03 00:00:00|2021-07-11 00:00:00|      22|           EA|   27500.0|               USD|        3|                NULL|   NULL|http://lighttree....|\n",
            "|      100044346| OUTBOUND|                    LightTree|                     CALTRAN|                                          LT-1|              CALTRAN - San Diego|       NULL|2021-06-11 00:00:00|2021-07-03 00:00:00|  2021-07-11 00:00:00|2021-07-03 00:00:00|2021-07-11 00:00:00|      59|           EA|   73750.0|               USD|        3|                NULL|   NULL|http://lighttree....|\n",
            "|      100044347| OUTBOUND|                    LightTree|                     CALTRAN|                                          LT-1|              CALTRAN - San Diego|       NULL|2021-06-11 00:00:00|2021-07-11 00:00:00|  2021-07-19 00:00:00|2021-07-11 00:00:00|2021-07-19 00:00:00|     645|           EA|  806250.0|               USD|        3|                NULL|   NULL|http://lighttree....|\n",
            "|      100044348| OUTBOUND|                    LightTree|                     CALTRAN|                                          LT-1|              CALTRAN - San Diego|       NULL|2021-06-11 00:00:00|2021-07-11 00:00:00|  2021-07-19 00:00:00|2021-07-11 00:00:00|2021-07-19 00:00:00|      54|           EA|   67500.0|               USD|        3|                NULL|   NULL|http://lighttree....|\n",
            "+---------------+---------+-----------------------------+----------------------------+----------------------------------------------+---------------------------------+-----------+-------------------+-------------------+---------------------+-------------------+-------------------+--------+-------------+----------+------------------+---------+--------------------+-------+--------------------+\n",
            "only showing top 20 rows\n",
            "\n"
          ]
        }
      ]
    },
    {
      "cell_type": "code",
      "source": [
        "df.printSchema()"
      ],
      "metadata": {
        "colab": {
          "base_uri": "https://localhost:8080/"
        },
        "id": "FE2NjfFyf1_t",
        "outputId": "a99ed3eb-34e6-404b-b28e-b3cf16e78dae"
      },
      "execution_count": null,
      "outputs": [
        {
          "output_type": "stream",
          "name": "stdout",
          "text": [
            "root\n",
            " |-- orderIdentifier: integer (nullable = true)\n",
            " |-- orderType: string (nullable = true)\n",
            " |-- vendor.organizationIdentifier: string (nullable = true)\n",
            " |-- buyer.organizationIdentifier: string (nullable = true)\n",
            " |-- shipFromInstructionLocation.locationIdentifier: string (nullable = true)\n",
            " |-- shipToLocation.locationIdentifier: string (nullable = true)\n",
            " |-- orderStatus: string (nullable = true)\n",
            " |-- createdDate: timestamp (nullable = true)\n",
            " |-- requestedShipDate: timestamp (nullable = true)\n",
            " |-- requestedDeliveryDate: timestamp (nullable = true)\n",
            " |-- plannedShipDate: timestamp (nullable = true)\n",
            " |-- plannedDeliveryDate: timestamp (nullable = true)\n",
            " |-- quantity: integer (nullable = true)\n",
            " |-- quantityUnits: string (nullable = true)\n",
            " |-- totalValue: double (nullable = true)\n",
            " |-- orderValueCurrency: string (nullable = true)\n",
            " |-- lineCount: integer (nullable = true)\n",
            " |-- totalShippedQuantity: string (nullable = true)\n",
            " |-- exclude: string (nullable = true)\n",
            " |-- sourceLink: string (nullable = true)\n",
            "\n"
          ]
        }
      ]
    },
    {
      "cell_type": "code",
      "source": [
        "df.count()"
      ],
      "metadata": {
        "colab": {
          "base_uri": "https://localhost:8080/"
        },
        "id": "9qskm1jQgIBu",
        "outputId": "8cdb585c-b3ae-4cb5-cde0-eb935baf3efa"
      },
      "execution_count": null,
      "outputs": [
        {
          "output_type": "execute_result",
          "data": {
            "text/plain": [
              "214"
            ]
          },
          "metadata": {},
          "execution_count": 19
        }
      ]
    },
    {
      "cell_type": "code",
      "source": [
        "df.select(\"quantityUnits\",\"orderType\",\"totalValue\").show()"
      ],
      "metadata": {
        "colab": {
          "base_uri": "https://localhost:8080/"
        },
        "id": "qfiAVvzhgQU9",
        "outputId": "c899e2f9-9d4f-42e8-e050-249bc107ab9b"
      },
      "execution_count": null,
      "outputs": [
        {
          "output_type": "stream",
          "name": "stdout",
          "text": [
            "+-------------+---------+----------+\n",
            "|quantityUnits|orderType|totalValue|\n",
            "+-------------+---------+----------+\n",
            "|           EA| OUTBOUND|  236250.0|\n",
            "|           EA| OUTBOUND|   25000.0|\n",
            "|           EA| OUTBOUND|  265000.0|\n",
            "|           EA| OUTBOUND|   59473.0|\n",
            "|           EA| OUTBOUND|   47438.0|\n",
            "|           EA| OUTBOUND|   85000.0|\n",
            "|           EA| OUTBOUND|   92500.0|\n",
            "|           EA| OUTBOUND|  260000.0|\n",
            "|           EA| OUTBOUND|  500000.0|\n",
            "|           EA| OUTBOUND|   27500.0|\n",
            "|           EA| OUTBOUND|  377500.0|\n",
            "|           EA| OUTBOUND|   20084.0|\n",
            "|           EA| OUTBOUND|   29093.0|\n",
            "|           EA| OUTBOUND|   14735.0|\n",
            "|           EA| OUTBOUND|   49240.0|\n",
            "|           EA| OUTBOUND|   62681.0|\n",
            "|           EA| OUTBOUND|   27500.0|\n",
            "|           EA| OUTBOUND|   73750.0|\n",
            "|           EA| OUTBOUND|  806250.0|\n",
            "|           EA| OUTBOUND|   67500.0|\n",
            "+-------------+---------+----------+\n",
            "only showing top 20 rows\n",
            "\n"
          ]
        }
      ]
    },
    {
      "cell_type": "code",
      "source": [
        "df.describe(\"lineCount\").show()"
      ],
      "metadata": {
        "colab": {
          "base_uri": "https://localhost:8080/"
        },
        "id": "1_wtNQhEgebd",
        "outputId": "c449cf90-63e5-4c38-a734-24743555e999"
      },
      "execution_count": null,
      "outputs": [
        {
          "output_type": "stream",
          "name": "stdout",
          "text": [
            "+-------+------------------+\n",
            "|summary|         lineCount|\n",
            "+-------+------------------+\n",
            "|  count|               214|\n",
            "|   mean|1.6074766355140186|\n",
            "| stddev| 1.023269264521538|\n",
            "|    min|                 1|\n",
            "|    max|                 4|\n",
            "+-------+------------------+\n",
            "\n"
          ]
        }
      ]
    },
    {
      "cell_type": "code",
      "source": [
        "df.filter(df.lineCount=='1').show()"
      ],
      "metadata": {
        "colab": {
          "base_uri": "https://localhost:8080/"
        },
        "id": "GCvywAWvgert",
        "outputId": "dc041416-3e1d-4dc8-f4ce-cf74c066d3f7"
      },
      "execution_count": null,
      "outputs": [
        {
          "output_type": "stream",
          "name": "stdout",
          "text": [
            "+---------------+---------+-----------------------------+----------------------------+----------------------------------------------+---------------------------------+-----------+-------------------+-------------------+---------------------+-------------------+-------------------+--------+-------------+----------+------------------+---------+--------------------+-------+--------------------+\n",
            "|orderIdentifier|orderType|vendor.organizationIdentifier|buyer.organizationIdentifier|shipFromInstructionLocation.locationIdentifier|shipToLocation.locationIdentifier|orderStatus|        createdDate|  requestedShipDate|requestedDeliveryDate|    plannedShipDate|plannedDeliveryDate|quantity|quantityUnits|totalValue|orderValueCurrency|lineCount|totalShippedQuantity|exclude|          sourceLink|\n",
            "+---------------+---------+-----------------------------+----------------------------+----------------------------------------------+---------------------------------+-----------+-------------------+-------------------+---------------------+-------------------+-------------------+--------+-------------+----------+------------------+---------+--------------------+-------+--------------------+\n",
            "|     1000567212|  INBOUND|                     Flexilux|                   LightTree|                          Flexilux - Worcester|                             LT-1|       NULL|2021-07-08 00:00:00|2021-07-15 00:00:00|  2021-07-19 00:00:00|2021-07-15 00:00:00|2021-07-19 00:00:00|      56|           EA|  134288.0|               USD|        1|                NULL|   NULL|http://lighttree....|\n",
            "|     1000567213|  INBOUND|                   Interalloy|                   LightTree|                          Interalloy - Bozeman|                             LT-1|       NULL|2021-07-08 00:00:00|2021-07-15 00:00:00|  2021-07-19 00:00:00|2021-07-15 00:00:00|2021-07-19 00:00:00|      56|           EA|     168.0|               USD|        1|                NULL|   NULL|http://lighttree....|\n",
            "|     1000567215|  INBOUND|                    Alumi-lux|                   LightTree|                            Alumi-lux - Nashua|                             LT-1|       NULL|2021-07-15 00:00:00|2021-07-22 00:00:00|  2021-07-26 00:00:00|2021-07-26 00:00:00|               NULL|      44|           EA|   20020.0|               USD|        1|                NULL|   NULL|http://lighttree....|\n",
            "|     1000567217|  INBOUND|                           EM|                   LightTree|                                 EM - Hemphill|                             LT-1|       NULL|2021-07-15 00:00:00|2021-07-22 00:00:00|  2021-07-26 00:00:00|2021-07-24 00:00:00|               NULL|      44|           EA|     836.0|               USD|        1|                NULL|   NULL|http://lighttree....|\n",
            "|     1000567229|  INBOUND|                      Thermal|                   LightTree|                          Thermal - Cincinnati|                             LT-1|       NULL|2021-06-16 00:00:00|2021-06-23 00:00:00|  2021-06-27 00:00:00|2021-06-23 00:00:00|2021-06-27 00:00:00|     124|           EA|    6820.0|               USD|        1|                NULL|   NULL|http://lighttree....|\n",
            "|     1000567234|  INBOUND|                         Amos|                   LightTree|                           Amos - Philadelphia|                             LT-1|       NULL|2021-07-15 00:00:00|2021-07-22 00:00:00|  2021-07-26 00:00:00|2021-07-22 00:00:00|               NULL|      44|           EA|    2420.0|               USD|        1|                NULL|   NULL|http://lighttree....|\n",
            "|     1000567240|  INBOUND|                   Interalloy|                   LightTree|                          Interalloy - Bozeman|                             LT-1|       NULL|2021-07-15 00:00:00|2021-07-22 00:00:00|  2021-07-26 00:00:00|2021-07-24 00:00:00|               NULL|      44|           EA|     220.0|               USD|        1|                NULL|   NULL|http://lighttree....|\n",
            "|     1000567241|  INBOUND|                         Amos|                   LightTree|                           Amos - Philadelphia|                             LT-1|       NULL|2021-07-08 00:00:00|2021-07-15 00:00:00|  2021-07-19 00:00:00|2021-07-15 00:00:00|2021-07-19 00:00:00|      56|           EA|    3080.0|               USD|        1|                NULL|   NULL|http://lighttree....|\n",
            "|     1000567244|  INBOUND|                           EM|                   LightTree|                                 EM - Hemphill|                             LT-1|       NULL|2021-07-08 00:00:00|2021-07-15 00:00:00|  2021-07-19 00:00:00|2021-07-15 00:00:00|2021-07-19 00:00:00|      56|           EA|    1064.0|               USD|        1|                NULL|   NULL|http://lighttree....|\n",
            "|     1000567248|  INBOUND|                           SA|                   LightTree|                                  SA - Loretto|                             LT-1|       NULL|2021-06-16 00:00:00|2021-06-23 00:00:00|  2021-06-27 00:00:00|2021-06-23 00:00:00|2021-06-27 00:00:00|     512|           EA|  179200.0|               USD|        1|                NULL|   NULL|http://lighttree....|\n",
            "|     1000567251|  INBOUND|                 SilverOptics|                   LightTree|                          SilverOptics - Dover|                             LT-1|       NULL|2021-07-15 00:00:00|2021-07-22 00:00:00|  2021-07-26 00:00:00|               NULL|               NULL|      44|           EA|    4752.0|               USD|        1|                NULL|   NULL|http://lighttree....|\n",
            "|     1000567254|  INBOUND|                      Brewers|                   LightTree|                             Brewers - Phoenix|                             LT-1|       NULL|2021-06-16 00:00:00|2021-06-23 00:00:00|  2021-06-27 00:00:00|2021-06-23 00:00:00|2021-06-27 00:00:00|     512|           EA|  745472.0|               USD|        1|                NULL|   NULL|http://lighttree....|\n",
            "|     1000567255|  INBOUND|                       Ripley|                   LightTree|                              Ripley - Trenton|                             LT-1|       NULL|2021-07-08 00:00:00|2021-07-15 00:00:00|  2021-07-19 00:00:00|2021-07-15 00:00:00|2021-07-19 00:00:00|      56|           EA|   17920.0|               USD|        1|                NULL|   NULL|http://lighttree....|\n",
            "|     1000567262|  INBOUND|                   Interalloy|                   LightTree|                          Interalloy - Bozeman|                             LT-1|       NULL|2021-06-16 00:00:00|2021-06-23 00:00:00|  2021-06-27 00:00:00|2021-06-23 00:00:00|2021-06-27 00:00:00|     512|           EA|    2560.0|               USD|        1|                NULL|   NULL|http://lighttree....|\n",
            "|     1000567264|  INBOUND|                       Ripley|                   LightTree|                              Ripley - Trenton|                             LT-1|       NULL|2021-07-15 00:00:00|2021-07-22 00:00:00|  2021-07-26 00:00:00|               NULL|               NULL|      44|           EA|   15400.0|               USD|        1|                NULL|   NULL|http://lighttree....|\n",
            "|     1000567268|  INBOUND|                           EM|                   LightTree|                                 EM - Hemphill|                             LT-1|       NULL|2021-06-16 00:00:00|2021-06-23 00:00:00|  2021-06-27 00:00:00|2021-06-23 00:00:00|2021-06-27 00:00:00|     512|           EA|    9728.0|               USD|        1|                NULL|   NULL|http://lighttree....|\n",
            "|     1000567286|  INBOUND|                      Brewers|                   LightTree|                             Brewers - Phoenix|                             LT-1|       NULL|2021-07-15 00:00:00|2021-07-22 00:00:00|  2021-07-26 00:00:00|2021-07-22 00:00:00|               NULL|      44|           EA|   56628.0|               USD|        1|                NULL|   NULL|http://lighttree....|\n",
            "|     1000567287|  INBOUND|                      Mueller|                   LightTree|                          Mueller - Pittsburgh|                             LT-1|       NULL|2021-06-16 00:00:00|2021-06-23 00:00:00|  2021-06-27 00:00:00|2021-06-23 00:00:00|2021-06-27 00:00:00|     512|           EA|  210944.0|               USD|        1|                NULL|   NULL|http://lighttree....|\n",
            "|     1000567294|  INBOUND|                    Alumi-lux|                   LightTree|                            Alumi-lux - Nashua|                             LT-1|       NULL|2021-06-29 00:00:00|2021-07-06 00:00:00|  2021-07-10 00:00:00|2021-07-10 00:00:00|2021-07-14 00:00:00|      75|           EA|   34125.0|               USD|        1|                NULL|   NULL|http://lighttree....|\n",
            "|     1000567306|  INBOUND|                   Interalloy|                   LightTree|                          Interalloy - Bozeman|                             LT-1|       NULL|2021-06-16 00:00:00|2021-06-23 00:00:00|  2021-06-27 00:00:00|2021-06-23 00:00:00|2021-06-27 00:00:00|     512|           EA|    1536.0|               USD|        1|                NULL|   NULL|http://lighttree....|\n",
            "+---------------+---------+-----------------------------+----------------------------+----------------------------------------------+---------------------------------+-----------+-------------------+-------------------+---------------------+-------------------+-------------------+--------+-------------+----------+------------------+---------+--------------------+-------+--------------------+\n",
            "only showing top 20 rows\n",
            "\n"
          ]
        }
      ]
    },
    {
      "cell_type": "code",
      "source": [
        "df.describe(\"quantityUnits\").show()"
      ],
      "metadata": {
        "colab": {
          "base_uri": "https://localhost:8080/"
        },
        "id": "HAzn0VRFh9at",
        "outputId": "55791ba5-a502-43ab-d22c-8a012969a844"
      },
      "execution_count": null,
      "outputs": [
        {
          "output_type": "stream",
          "name": "stdout",
          "text": [
            "+-------+-------------+\n",
            "|summary|quantityUnits|\n",
            "+-------+-------------+\n",
            "|  count|          214|\n",
            "|   mean|         NULL|\n",
            "| stddev|         NULL|\n",
            "|    min|           EA|\n",
            "|    max|           EA|\n",
            "+-------+-------------+\n",
            "\n"
          ]
        }
      ]
    },
    {
      "cell_type": "code",
      "source": [
        "df.filter(df.quantityUnits==\"EA\").show()"
      ],
      "metadata": {
        "colab": {
          "base_uri": "https://localhost:8080/"
        },
        "id": "C3W4y-54hnd2",
        "outputId": "acd12478-c9dd-41d1-d5c1-548048b1859f"
      },
      "execution_count": null,
      "outputs": [
        {
          "output_type": "stream",
          "name": "stdout",
          "text": [
            "+---------------+---------+-----------------------------+----------------------------+----------------------------------------------+---------------------------------+-----------+-------------------+-------------------+---------------------+-------------------+-------------------+--------+-------------+----------+------------------+---------+--------------------+-------+--------------------+\n",
            "|orderIdentifier|orderType|vendor.organizationIdentifier|buyer.organizationIdentifier|shipFromInstructionLocation.locationIdentifier|shipToLocation.locationIdentifier|orderStatus|        createdDate|  requestedShipDate|requestedDeliveryDate|    plannedShipDate|plannedDeliveryDate|quantity|quantityUnits|totalValue|orderValueCurrency|lineCount|totalShippedQuantity|exclude|          sourceLink|\n",
            "+---------------+---------+-----------------------------+----------------------------+----------------------------------------------+---------------------------------+-----------+-------------------+-------------------+---------------------+-------------------+-------------------+--------+-------------+----------+------------------+---------+--------------------+-------+--------------------+\n",
            "|      100044349| OUTBOUND|                    LightTree|                        AHTD|                                          LT-1|               AHTD - Bentonville|       NULL|2021-06-08 00:00:00|2021-07-20 00:00:00|  2021-07-30 00:00:00|2021-07-23 00:00:00|2021-07-30 00:00:00|     189|           EA|  236250.0|               USD|        3|                NULL|   NULL|http://lighttree....|\n",
            "|      100044350| OUTBOUND|                    LightTree|                        AHTD|                                          LT-1|               AHTD - Bentonville|       NULL|2021-06-08 00:00:00|2021-07-23 00:00:00|  2021-07-30 00:00:00|2021-07-23 00:00:00|2021-07-30 00:00:00|      20|           EA|   25000.0|               USD|        3|                NULL|   NULL|http://lighttree....|\n",
            "|      100044353| OUTBOUND|                    LightTree|                        AHTD|                                          LT-1|               AHTD - Bentonville|       NULL|2021-06-08 00:00:00|2021-07-13 00:00:00|  2021-07-30 00:00:00|2021-07-23 00:00:00|2021-07-30 00:00:00|     212|           EA|  265000.0|               USD|        3|                NULL|   NULL|http://lighttree....|\n",
            "|      100055001| OUTBOUND|                    LightTree|                        AHTD|                                          LT-2|               AHTD - Bentonville|       NULL|2017-07-11 00:00:00|2021-08-10 00:00:00|  2021-08-18 00:00:00|2021-08-10 00:00:00|2021-08-18 00:00:00|     761|           EA|   59473.0|               USD|        3|                NULL|   NULL|http://lighttree....|\n",
            "|      100055003| OUTBOUND|                    LightTree|                        AHTD|                                          LT-2|               AHTD - Bentonville|       NULL|2017-07-20 00:00:00|2021-08-11 00:00:00|  2021-08-14 00:00:00|2021-08-11 00:00:00|2021-08-14 00:00:00|     520|           EA|   47438.0|               USD|        3|                NULL|   NULL|http://lighttree....|\n",
            "|      100044351| OUTBOUND|                    LightTree|                        AHTD|                                          LT-1|               AHTD - Bentonville|       NULL|2021-06-08 00:00:00|2021-07-08 00:00:00|  2021-07-15 00:00:00|2021-07-08 00:00:00|2021-07-15 00:00:00|      68|           EA|   85000.0|               USD|        3|                NULL|   NULL|http://lighttree....|\n",
            "|      100044352| OUTBOUND|                    LightTree|                        AHTD|                                          LT-1|               AHTD - Bentonville|       NULL|2021-06-08 00:00:00|2021-07-08 00:00:00|  2021-07-15 00:00:00|2021-07-08 00:00:00|2021-07-17 00:00:00|      74|           EA|   92500.0|               USD|        3|                NULL|   NULL|http://lighttree....|\n",
            "|      100044354| OUTBOUND|                    LightTree|                        AHTD|                                          LT-1|               AHTD - Bentonville|       NULL|2021-06-08 00:00:00|2021-06-30 00:00:00|  2021-07-07 00:00:00|2021-06-30 00:00:00|2021-07-07 00:00:00|     208|           EA|  260000.0|               USD|        3|                NULL|   NULL|http://lighttree....|\n",
            "|      100044355| OUTBOUND|                    LightTree|                        AHTD|                                          LT-1|               AHTD - Bentonville|       NULL|2021-06-08 00:00:00|2021-06-30 00:00:00|  2021-07-07 00:00:00|2021-06-30 00:00:00|2021-07-07 00:00:00|     400|           EA|  500000.0|               USD|        3|                NULL|   NULL|http://lighttree....|\n",
            "|      100044343| OUTBOUND|                    LightTree|                     CALTRAN|                                          LT-1|              CALTRAN - San Diego|       NULL|2021-06-11 00:00:00|2021-07-26 00:00:00|  2021-08-03 00:00:00|2021-07-26 00:00:00|2021-08-03 00:00:00|      22|           EA|   27500.0|               USD|        3|                NULL|   NULL|http://lighttree....|\n",
            "|      100044344| OUTBOUND|                    LightTree|                     CALTRAN|                                          LT-1|              CALTRAN - San Diego|       NULL|2021-06-11 00:00:00|2021-07-28 00:00:00|  2021-08-03 00:00:00|2021-07-26 00:00:00|2021-08-03 00:00:00|     302|           EA|  377500.0|               USD|        3|                NULL|   NULL|http://lighttree....|\n",
            "|      100055000| OUTBOUND|                    LightTree|                     CALTRAN|                                          LT-2|              CALTRAN - San Diego|       NULL|2017-07-20 00:00:00|2021-08-11 00:00:00|  2021-08-14 00:00:00|2021-08-11 00:00:00|2021-08-14 00:00:00|     228|           EA|   20084.0|               USD|        3|                NULL|   NULL|http://lighttree....|\n",
            "|      100055002| OUTBOUND|                    LightTree|                     CALTRAN|                                          LT-2|              CALTRAN - San Diego|       NULL|2017-07-07 00:00:00|2021-08-06 00:00:00|  2021-08-12 00:00:00|2021-08-06 00:00:00|2021-08-12 00:00:00|     363|           EA|   29093.0|               USD|        3|                NULL|   NULL|http://lighttree....|\n",
            "|      100055005| OUTBOUND|                    LightTree|                     CALTRAN|                                          LT-2|              CALTRAN - San Diego|       NULL|2017-07-07 00:00:00|2021-08-06 00:00:00|  2021-08-12 00:00:00|2021-08-06 00:00:00|2021-08-12 00:00:00|     154|           EA|   14735.0|               USD|        3|                NULL|   NULL|http://lighttree....|\n",
            "|      100055007| OUTBOUND|                    LightTree|                     CALTRAN|                                          LT-2|              CALTRAN - San Diego|       NULL|2017-07-11 00:00:00|2021-08-10 00:00:00|  2021-08-18 00:00:00|2021-08-10 00:00:00|2021-08-18 00:00:00|     655|           EA|   49240.0|               USD|        3|                NULL|   NULL|http://lighttree....|\n",
            "|      100055009| OUTBOUND|                    LightTree|                     CALTRAN|                                          LT-2|              CALTRAN - San Diego|       NULL|2017-07-07 00:00:00|2021-08-06 00:00:00|  2021-08-12 00:00:00|2021-08-06 00:00:00|2021-08-12 00:00:00|     761|           EA|   62681.0|               USD|        3|                NULL|   NULL|http://lighttree....|\n",
            "|      100044345| OUTBOUND|                    LightTree|                     CALTRAN|                                          LT-1|              CALTRAN - San Diego|       NULL|2021-06-11 00:00:00|2021-06-28 00:00:00|  2021-07-11 00:00:00|2021-07-03 00:00:00|2021-07-11 00:00:00|      22|           EA|   27500.0|               USD|        3|                NULL|   NULL|http://lighttree....|\n",
            "|      100044346| OUTBOUND|                    LightTree|                     CALTRAN|                                          LT-1|              CALTRAN - San Diego|       NULL|2021-06-11 00:00:00|2021-07-03 00:00:00|  2021-07-11 00:00:00|2021-07-03 00:00:00|2021-07-11 00:00:00|      59|           EA|   73750.0|               USD|        3|                NULL|   NULL|http://lighttree....|\n",
            "|      100044347| OUTBOUND|                    LightTree|                     CALTRAN|                                          LT-1|              CALTRAN - San Diego|       NULL|2021-06-11 00:00:00|2021-07-11 00:00:00|  2021-07-19 00:00:00|2021-07-11 00:00:00|2021-07-19 00:00:00|     645|           EA|  806250.0|               USD|        3|                NULL|   NULL|http://lighttree....|\n",
            "|      100044348| OUTBOUND|                    LightTree|                     CALTRAN|                                          LT-1|              CALTRAN - San Diego|       NULL|2021-06-11 00:00:00|2021-07-11 00:00:00|  2021-07-19 00:00:00|2021-07-11 00:00:00|2021-07-19 00:00:00|      54|           EA|   67500.0|               USD|        3|                NULL|   NULL|http://lighttree....|\n",
            "+---------------+---------+-----------------------------+----------------------------+----------------------------------------------+---------------------------------+-----------+-------------------+-------------------+---------------------+-------------------+-------------------+--------+-------------+----------+------------------+---------+--------------------+-------+--------------------+\n",
            "only showing top 20 rows\n",
            "\n"
          ]
        }
      ]
    },
    {
      "cell_type": "code",
      "source": [
        "df.where(df.lineCount==4).show()"
      ],
      "metadata": {
        "colab": {
          "base_uri": "https://localhost:8080/"
        },
        "id": "LUt2hbXUifaw",
        "outputId": "18c742bc-9303-4015-d046-500dbf5e4954"
      },
      "execution_count": null,
      "outputs": [
        {
          "output_type": "stream",
          "name": "stdout",
          "text": [
            "+---------------+---------+-----------------------------+----------------------------+----------------------------------------------+---------------------------------+-----------+-------------------+-------------------+---------------------+-------------------+-------------------+--------+-------------+----------+------------------+---------+--------------------+-------+--------------------+\n",
            "|orderIdentifier|orderType|vendor.organizationIdentifier|buyer.organizationIdentifier|shipFromInstructionLocation.locationIdentifier|shipToLocation.locationIdentifier|orderStatus|        createdDate|  requestedShipDate|requestedDeliveryDate|    plannedShipDate|plannedDeliveryDate|quantity|quantityUnits|totalValue|orderValueCurrency|lineCount|totalShippedQuantity|exclude|          sourceLink|\n",
            "+---------------+---------+-----------------------------+----------------------------+----------------------------------------------+---------------------------------+-----------+-------------------+-------------------+---------------------+-------------------+-------------------+--------+-------------+----------+------------------+---------+--------------------+-------+--------------------+\n",
            "|      100055010| OUTBOUND|                    LightTree|                         FAA|                                          LT-2|                 FAA - Washington|       NULL|2017-07-20 00:00:00|2021-08-11 00:00:00|  2021-08-14 00:00:00|2021-08-11 00:00:00|2021-08-14 00:00:00|     488|           EA|   35137.0|               USD|        4|                NULL|   NULL|http://lighttree....|\n",
            "|     1000066000|  INBOUND|                 Total Source|                   LightTree|                          Total Source - Wa...|                             LT-2|       NULL|2021-07-01 00:00:00|2021-08-04 00:00:00|  2021-08-07 00:00:00|2021-08-04 00:00:00|2021-08-07 00:00:00|    1400|           EA|  226800.0|               USD|        4|                NULL|   NULL|http://lighttree....|\n",
            "|     1000066001|  INBOUND|                 Total Source|                   LightTree|                          Total Source - Wa...|                             LT-2|       NULL|2021-07-01 00:00:00|2021-08-14 00:00:00|  2021-08-17 00:00:00|2021-08-14 00:00:00|2021-08-17 00:00:00|    1400|           EA|  226800.0|               USD|        4|                NULL|   NULL|http://lighttree....|\n",
            "|     1000066002|  INBOUND|                 Total Source|                   LightTree|                          Total Source - Wa...|                             LT-2|       NULL|2021-07-01 00:00:00|2021-08-24 00:00:00|  2021-08-27 00:00:00|2021-08-24 00:00:00|2021-08-27 00:00:00|    1400|           EA|  226800.0|               USD|        4|                NULL|   NULL|http://lighttree....|\n",
            "|     1000066003|  INBOUND|                 Total Source|                   LightTree|                          Total Source - Wa...|                             LT-2|       NULL|2021-07-01 00:00:00|2021-09-03 00:00:00|  2021-09-06 00:00:00|2021-09-04 00:00:00|2021-09-07 00:00:00|    1400|           EA|  226800.0|               USD|        4|                NULL|   NULL|http://lighttree....|\n",
            "|     1000066004|  INBOUND|                 Total Source|                   LightTree|                          Total Source - Wa...|                             LT-2|       NULL|2021-07-01 00:00:00|2021-09-13 00:00:00|  2021-09-16 00:00:00|2021-09-09 00:00:00|2021-09-12 00:00:00|    1400|           EA|  226800.0|               USD|        4|                NULL|   NULL|http://lighttree....|\n",
            "|     1000066005|  INBOUND|                 Total Source|                   LightTree|                          Total Source - Wa...|                             LT-2|       NULL|2021-07-01 00:00:00|2021-09-23 00:00:00|  2021-09-26 00:00:00|2021-09-23 00:00:00|2021-09-26 00:00:00|    1400|           EA|  226800.0|               USD|        4|                NULL|   NULL|http://lighttree....|\n",
            "|     1000066006|  INBOUND|                        F & M|                   LightTree|                              F & M - Columbus|                             LT-2|       NULL|2021-07-01 00:00:00|2021-08-04 00:00:00|  2021-08-07 00:00:00|2021-08-04 00:00:00|2021-08-07 00:00:00|    1400|           EA|  109900.0|               USD|        4|                NULL|   NULL|http://lighttree....|\n",
            "|     1000066007|  INBOUND|                        F & M|                   LightTree|                              F & M - Columbus|                             LT-2|       NULL|2021-07-01 00:00:00|2021-08-14 00:00:00|  2021-08-17 00:00:00|2021-08-14 00:00:00|2021-08-17 00:00:00|    1400|           EA|  109900.0|               USD|        4|                NULL|   NULL|http://lighttree....|\n",
            "|     1000066008|  INBOUND|                        F & M|                   LightTree|                              F & M - Columbus|                             LT-2|       NULL|2021-07-01 00:00:00|2021-08-24 00:00:00|  2021-08-27 00:00:00|2021-08-24 00:00:00|2021-08-27 00:00:00|    1400|           EA|  109900.0|               USD|        4|                NULL|   NULL|http://lighttree....|\n",
            "|     1000066009|  INBOUND|                        F & M|                   LightTree|                              F & M - Columbus|                             LT-2|       NULL|2021-07-01 00:00:00|2021-09-03 00:00:00|  2021-09-06 00:00:00|2021-09-04 00:00:00|2021-09-07 00:00:00|    1400|           EA|  109900.0|               USD|        4|                NULL|   NULL|http://lighttree....|\n",
            "|     1000066010|  INBOUND|                        F & M|                   LightTree|                              F & M - Columbus|                             LT-2|       NULL|2021-07-01 00:00:00|2021-09-13 00:00:00|  2021-09-16 00:00:00|2021-09-13 00:00:00|2021-09-16 00:00:00|    1400|           EA|  109900.0|               USD|        4|                NULL|   NULL|http://lighttree....|\n",
            "|     1000066011|  INBOUND|                        F & M|                   LightTree|                              F & M - Columbus|                             LT-2|       NULL|2021-07-01 00:00:00|2021-09-23 00:00:00|  2021-09-26 00:00:00|2021-09-23 00:00:00|2021-09-26 00:00:00|    1400|           EA|  109900.0|               USD|        4|                NULL|   NULL|http://lighttree....|\n",
            "|      100055011| OUTBOUND|                    LightTree|                        QPWD|                                          LT-2|             QPWD - Ville de Q...|       NULL|2017-07-11 00:00:00|2021-08-10 00:00:00|  2021-08-18 00:00:00|2021-08-10 00:00:00|2021-08-18 00:00:00|     447|           EA|   27319.0|               USD|        4|                NULL|   NULL|http://lighttree....|\n",
            "+---------------+---------+-----------------------------+----------------------------+----------------------------------------------+---------------------------------+-----------+-------------------+-------------------+---------------------+-------------------+-------------------+--------+-------------+----------+------------------+---------+--------------------+-------+--------------------+\n",
            "\n"
          ]
        }
      ]
    },
    {
      "cell_type": "code",
      "source": [
        "df.where((df.lineCount==3) & (df.orderType == 'OUTBOUND') & (df.quantityUnits == 'EA')).show()"
      ],
      "metadata": {
        "colab": {
          "base_uri": "https://localhost:8080/"
        },
        "id": "Doddh_awlENJ",
        "outputId": "c3655ff3-6eec-4f57-9e84-53f9afa4a1bd"
      },
      "execution_count": null,
      "outputs": [
        {
          "output_type": "stream",
          "name": "stdout",
          "text": [
            "+---------------+---------+-----------------------------+----------------------------+----------------------------------------------+---------------------------------+-----------+-------------------+-------------------+---------------------+-------------------+-------------------+--------+-------------+----------+------------------+---------+--------------------+-------+--------------------+\n",
            "|orderIdentifier|orderType|vendor.organizationIdentifier|buyer.organizationIdentifier|shipFromInstructionLocation.locationIdentifier|shipToLocation.locationIdentifier|orderStatus|        createdDate|  requestedShipDate|requestedDeliveryDate|    plannedShipDate|plannedDeliveryDate|quantity|quantityUnits|totalValue|orderValueCurrency|lineCount|totalShippedQuantity|exclude|          sourceLink|\n",
            "+---------------+---------+-----------------------------+----------------------------+----------------------------------------------+---------------------------------+-----------+-------------------+-------------------+---------------------+-------------------+-------------------+--------+-------------+----------+------------------+---------+--------------------+-------+--------------------+\n",
            "|      100044349| OUTBOUND|                    LightTree|                        AHTD|                                          LT-1|               AHTD - Bentonville|       NULL|2021-06-08 00:00:00|2021-07-20 00:00:00|  2021-07-30 00:00:00|2021-07-23 00:00:00|2021-07-30 00:00:00|     189|           EA|  236250.0|               USD|        3|                NULL|   NULL|http://lighttree....|\n",
            "|      100044350| OUTBOUND|                    LightTree|                        AHTD|                                          LT-1|               AHTD - Bentonville|       NULL|2021-06-08 00:00:00|2021-07-23 00:00:00|  2021-07-30 00:00:00|2021-07-23 00:00:00|2021-07-30 00:00:00|      20|           EA|   25000.0|               USD|        3|                NULL|   NULL|http://lighttree....|\n",
            "|      100044353| OUTBOUND|                    LightTree|                        AHTD|                                          LT-1|               AHTD - Bentonville|       NULL|2021-06-08 00:00:00|2021-07-13 00:00:00|  2021-07-30 00:00:00|2021-07-23 00:00:00|2021-07-30 00:00:00|     212|           EA|  265000.0|               USD|        3|                NULL|   NULL|http://lighttree....|\n",
            "|      100055001| OUTBOUND|                    LightTree|                        AHTD|                                          LT-2|               AHTD - Bentonville|       NULL|2017-07-11 00:00:00|2021-08-10 00:00:00|  2021-08-18 00:00:00|2021-08-10 00:00:00|2021-08-18 00:00:00|     761|           EA|   59473.0|               USD|        3|                NULL|   NULL|http://lighttree....|\n",
            "|      100055003| OUTBOUND|                    LightTree|                        AHTD|                                          LT-2|               AHTD - Bentonville|       NULL|2017-07-20 00:00:00|2021-08-11 00:00:00|  2021-08-14 00:00:00|2021-08-11 00:00:00|2021-08-14 00:00:00|     520|           EA|   47438.0|               USD|        3|                NULL|   NULL|http://lighttree....|\n",
            "|      100044351| OUTBOUND|                    LightTree|                        AHTD|                                          LT-1|               AHTD - Bentonville|       NULL|2021-06-08 00:00:00|2021-07-08 00:00:00|  2021-07-15 00:00:00|2021-07-08 00:00:00|2021-07-15 00:00:00|      68|           EA|   85000.0|               USD|        3|                NULL|   NULL|http://lighttree....|\n",
            "|      100044352| OUTBOUND|                    LightTree|                        AHTD|                                          LT-1|               AHTD - Bentonville|       NULL|2021-06-08 00:00:00|2021-07-08 00:00:00|  2021-07-15 00:00:00|2021-07-08 00:00:00|2021-07-17 00:00:00|      74|           EA|   92500.0|               USD|        3|                NULL|   NULL|http://lighttree....|\n",
            "|      100044354| OUTBOUND|                    LightTree|                        AHTD|                                          LT-1|               AHTD - Bentonville|       NULL|2021-06-08 00:00:00|2021-06-30 00:00:00|  2021-07-07 00:00:00|2021-06-30 00:00:00|2021-07-07 00:00:00|     208|           EA|  260000.0|               USD|        3|                NULL|   NULL|http://lighttree....|\n",
            "|      100044355| OUTBOUND|                    LightTree|                        AHTD|                                          LT-1|               AHTD - Bentonville|       NULL|2021-06-08 00:00:00|2021-06-30 00:00:00|  2021-07-07 00:00:00|2021-06-30 00:00:00|2021-07-07 00:00:00|     400|           EA|  500000.0|               USD|        3|                NULL|   NULL|http://lighttree....|\n",
            "|      100044343| OUTBOUND|                    LightTree|                     CALTRAN|                                          LT-1|              CALTRAN - San Diego|       NULL|2021-06-11 00:00:00|2021-07-26 00:00:00|  2021-08-03 00:00:00|2021-07-26 00:00:00|2021-08-03 00:00:00|      22|           EA|   27500.0|               USD|        3|                NULL|   NULL|http://lighttree....|\n",
            "|      100044344| OUTBOUND|                    LightTree|                     CALTRAN|                                          LT-1|              CALTRAN - San Diego|       NULL|2021-06-11 00:00:00|2021-07-28 00:00:00|  2021-08-03 00:00:00|2021-07-26 00:00:00|2021-08-03 00:00:00|     302|           EA|  377500.0|               USD|        3|                NULL|   NULL|http://lighttree....|\n",
            "|      100055000| OUTBOUND|                    LightTree|                     CALTRAN|                                          LT-2|              CALTRAN - San Diego|       NULL|2017-07-20 00:00:00|2021-08-11 00:00:00|  2021-08-14 00:00:00|2021-08-11 00:00:00|2021-08-14 00:00:00|     228|           EA|   20084.0|               USD|        3|                NULL|   NULL|http://lighttree....|\n",
            "|      100055002| OUTBOUND|                    LightTree|                     CALTRAN|                                          LT-2|              CALTRAN - San Diego|       NULL|2017-07-07 00:00:00|2021-08-06 00:00:00|  2021-08-12 00:00:00|2021-08-06 00:00:00|2021-08-12 00:00:00|     363|           EA|   29093.0|               USD|        3|                NULL|   NULL|http://lighttree....|\n",
            "|      100055005| OUTBOUND|                    LightTree|                     CALTRAN|                                          LT-2|              CALTRAN - San Diego|       NULL|2017-07-07 00:00:00|2021-08-06 00:00:00|  2021-08-12 00:00:00|2021-08-06 00:00:00|2021-08-12 00:00:00|     154|           EA|   14735.0|               USD|        3|                NULL|   NULL|http://lighttree....|\n",
            "|      100055007| OUTBOUND|                    LightTree|                     CALTRAN|                                          LT-2|              CALTRAN - San Diego|       NULL|2017-07-11 00:00:00|2021-08-10 00:00:00|  2021-08-18 00:00:00|2021-08-10 00:00:00|2021-08-18 00:00:00|     655|           EA|   49240.0|               USD|        3|                NULL|   NULL|http://lighttree....|\n",
            "|      100055009| OUTBOUND|                    LightTree|                     CALTRAN|                                          LT-2|              CALTRAN - San Diego|       NULL|2017-07-07 00:00:00|2021-08-06 00:00:00|  2021-08-12 00:00:00|2021-08-06 00:00:00|2021-08-12 00:00:00|     761|           EA|   62681.0|               USD|        3|                NULL|   NULL|http://lighttree....|\n",
            "|      100044345| OUTBOUND|                    LightTree|                     CALTRAN|                                          LT-1|              CALTRAN - San Diego|       NULL|2021-06-11 00:00:00|2021-06-28 00:00:00|  2021-07-11 00:00:00|2021-07-03 00:00:00|2021-07-11 00:00:00|      22|           EA|   27500.0|               USD|        3|                NULL|   NULL|http://lighttree....|\n",
            "|      100044346| OUTBOUND|                    LightTree|                     CALTRAN|                                          LT-1|              CALTRAN - San Diego|       NULL|2021-06-11 00:00:00|2021-07-03 00:00:00|  2021-07-11 00:00:00|2021-07-03 00:00:00|2021-07-11 00:00:00|      59|           EA|   73750.0|               USD|        3|                NULL|   NULL|http://lighttree....|\n",
            "|      100044347| OUTBOUND|                    LightTree|                     CALTRAN|                                          LT-1|              CALTRAN - San Diego|       NULL|2021-06-11 00:00:00|2021-07-11 00:00:00|  2021-07-19 00:00:00|2021-07-11 00:00:00|2021-07-19 00:00:00|     645|           EA|  806250.0|               USD|        3|                NULL|   NULL|http://lighttree....|\n",
            "|      100044348| OUTBOUND|                    LightTree|                     CALTRAN|                                          LT-1|              CALTRAN - San Diego|       NULL|2021-06-11 00:00:00|2021-07-11 00:00:00|  2021-07-19 00:00:00|2021-07-11 00:00:00|2021-07-19 00:00:00|      54|           EA|   67500.0|               USD|        3|                NULL|   NULL|http://lighttree....|\n",
            "+---------------+---------+-----------------------------+----------------------------+----------------------------------------------+---------------------------------+-----------+-------------------+-------------------+---------------------+-------------------+-------------------+--------+-------------+----------+------------------+---------+--------------------+-------+--------------------+\n",
            "only showing top 20 rows\n",
            "\n"
          ]
        }
      ]
    },
    {
      "cell_type": "code",
      "source": [
        "from pyspark import sql\n"
      ],
      "metadata": {
        "id": "qT-qO21lnZOy"
      },
      "execution_count": null,
      "outputs": []
    },
    {
      "cell_type": "code",
      "source": [
        "spark.sql('select * from organizationIdentifier ').show()"
      ],
      "metadata": {
        "colab": {
          "base_uri": "https://localhost:8080/",
          "height": 425
        },
        "id": "g8bX9ouhn9Q6",
        "outputId": "a3051590-3c27-44fe-bd68-c994d3201396"
      },
      "execution_count": null,
      "outputs": [
        {
          "output_type": "error",
          "ename": "AnalysisException",
          "evalue": "ignored",
          "traceback": [
            "\u001b[0;31m---------------------------------------------------------------------------\u001b[0m",
            "\u001b[0;31mAnalysisException\u001b[0m                         Traceback (most recent call last)",
            "\u001b[0;32m<ipython-input-44-1515f10b5051>\u001b[0m in \u001b[0;36m<cell line: 1>\u001b[0;34m()\u001b[0m\n\u001b[0;32m----> 1\u001b[0;31m \u001b[0mspark\u001b[0m\u001b[0;34m.\u001b[0m\u001b[0msql\u001b[0m\u001b[0;34m(\u001b[0m\u001b[0;34m'select * from organizationIdentifier '\u001b[0m\u001b[0;34m)\u001b[0m\u001b[0;34m.\u001b[0m\u001b[0mshow\u001b[0m\u001b[0;34m(\u001b[0m\u001b[0;34m)\u001b[0m\u001b[0;34m\u001b[0m\u001b[0;34m\u001b[0m\u001b[0m\n\u001b[0m",
            "\u001b[0;32m/usr/local/lib/python3.10/dist-packages/pyspark/sql/session.py\u001b[0m in \u001b[0;36msql\u001b[0;34m(self, sqlQuery, args, **kwargs)\u001b[0m\n\u001b[1;32m   1629\u001b[0m                     \u001b[0;34m[\u001b[0m\u001b[0m_to_java_column\u001b[0m\u001b[0;34m(\u001b[0m\u001b[0mlit\u001b[0m\u001b[0;34m(\u001b[0m\u001b[0mv\u001b[0m\u001b[0;34m)\u001b[0m\u001b[0;34m)\u001b[0m \u001b[0;32mfor\u001b[0m \u001b[0mv\u001b[0m \u001b[0;32min\u001b[0m \u001b[0;34m(\u001b[0m\u001b[0margs\u001b[0m \u001b[0;32mor\u001b[0m \u001b[0;34m[\u001b[0m\u001b[0;34m]\u001b[0m\u001b[0;34m)\u001b[0m\u001b[0;34m]\u001b[0m\u001b[0;34m\u001b[0m\u001b[0;34m\u001b[0m\u001b[0m\n\u001b[1;32m   1630\u001b[0m                 )\n\u001b[0;32m-> 1631\u001b[0;31m             \u001b[0;32mreturn\u001b[0m \u001b[0mDataFrame\u001b[0m\u001b[0;34m(\u001b[0m\u001b[0mself\u001b[0m\u001b[0;34m.\u001b[0m\u001b[0m_jsparkSession\u001b[0m\u001b[0;34m.\u001b[0m\u001b[0msql\u001b[0m\u001b[0;34m(\u001b[0m\u001b[0msqlQuery\u001b[0m\u001b[0;34m,\u001b[0m \u001b[0mlitArgs\u001b[0m\u001b[0;34m)\u001b[0m\u001b[0;34m,\u001b[0m \u001b[0mself\u001b[0m\u001b[0;34m)\u001b[0m\u001b[0;34m\u001b[0m\u001b[0;34m\u001b[0m\u001b[0m\n\u001b[0m\u001b[1;32m   1632\u001b[0m         \u001b[0;32mfinally\u001b[0m\u001b[0;34m:\u001b[0m\u001b[0;34m\u001b[0m\u001b[0;34m\u001b[0m\u001b[0m\n\u001b[1;32m   1633\u001b[0m             \u001b[0;32mif\u001b[0m \u001b[0mlen\u001b[0m\u001b[0;34m(\u001b[0m\u001b[0mkwargs\u001b[0m\u001b[0;34m)\u001b[0m \u001b[0;34m>\u001b[0m \u001b[0;36m0\u001b[0m\u001b[0;34m:\u001b[0m\u001b[0;34m\u001b[0m\u001b[0;34m\u001b[0m\u001b[0m\n",
            "\u001b[0;32m/usr/local/lib/python3.10/dist-packages/py4j/java_gateway.py\u001b[0m in \u001b[0;36m__call__\u001b[0;34m(self, *args)\u001b[0m\n\u001b[1;32m   1320\u001b[0m \u001b[0;34m\u001b[0m\u001b[0m\n\u001b[1;32m   1321\u001b[0m         \u001b[0manswer\u001b[0m \u001b[0;34m=\u001b[0m \u001b[0mself\u001b[0m\u001b[0;34m.\u001b[0m\u001b[0mgateway_client\u001b[0m\u001b[0;34m.\u001b[0m\u001b[0msend_command\u001b[0m\u001b[0;34m(\u001b[0m\u001b[0mcommand\u001b[0m\u001b[0;34m)\u001b[0m\u001b[0;34m\u001b[0m\u001b[0;34m\u001b[0m\u001b[0m\n\u001b[0;32m-> 1322\u001b[0;31m         return_value = get_return_value(\n\u001b[0m\u001b[1;32m   1323\u001b[0m             answer, self.gateway_client, self.target_id, self.name)\n\u001b[1;32m   1324\u001b[0m \u001b[0;34m\u001b[0m\u001b[0m\n",
            "\u001b[0;32m/usr/local/lib/python3.10/dist-packages/pyspark/errors/exceptions/captured.py\u001b[0m in \u001b[0;36mdeco\u001b[0;34m(*a, **kw)\u001b[0m\n\u001b[1;32m    183\u001b[0m                 \u001b[0;31m# Hide where the exception came from that shows a non-Pythonic\u001b[0m\u001b[0;34m\u001b[0m\u001b[0;34m\u001b[0m\u001b[0m\n\u001b[1;32m    184\u001b[0m                 \u001b[0;31m# JVM exception message.\u001b[0m\u001b[0;34m\u001b[0m\u001b[0;34m\u001b[0m\u001b[0m\n\u001b[0;32m--> 185\u001b[0;31m                 \u001b[0;32mraise\u001b[0m \u001b[0mconverted\u001b[0m \u001b[0;32mfrom\u001b[0m \u001b[0;32mNone\u001b[0m\u001b[0;34m\u001b[0m\u001b[0;34m\u001b[0m\u001b[0m\n\u001b[0m\u001b[1;32m    186\u001b[0m             \u001b[0;32melse\u001b[0m\u001b[0;34m:\u001b[0m\u001b[0;34m\u001b[0m\u001b[0;34m\u001b[0m\u001b[0m\n\u001b[1;32m    187\u001b[0m                 \u001b[0;32mraise\u001b[0m\u001b[0;34m\u001b[0m\u001b[0;34m\u001b[0m\u001b[0m\n",
            "\u001b[0;31mAnalysisException\u001b[0m: [TABLE_OR_VIEW_NOT_FOUND] The table or view `organizationIdentifier` cannot be found. Verify the spelling and correctness of the schema and catalog.\nIf you did not qualify the name with a schema, verify the current_schema() output, or qualify the name with the correct schema and catalog.\nTo tolerate the error on drop use DROP VIEW IF EXISTS or DROP TABLE IF EXISTS.; line 1 pos 14;\n'Project [*]\n+- 'UnresolvedRelation [organizationIdentifier], [], false\n"
          ]
        }
      ]
    },
    {
      "cell_type": "code",
      "source": [],
      "metadata": {
        "id": "ef5Ga5CMl-Po"
      },
      "execution_count": null,
      "outputs": []
    }
  ]
}