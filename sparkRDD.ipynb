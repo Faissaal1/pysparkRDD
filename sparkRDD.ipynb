{
  "nbformat": 4,
  "nbformat_minor": 0,
  "metadata": {
    "colab": {
      "provenance": []
    },
    "kernelspec": {
      "name": "python3",
      "display_name": "Python 3"
    },
    "language_info": {
      "name": "python"
    }
  },
  "cells": [
    {
      "cell_type": "code",
      "execution_count": null,
      "metadata": {
        "colab": {
          "base_uri": "https://localhost:8080/"
        },
        "id": "aw3apcwXyQSg",
        "outputId": "9c057715-c18b-44a6-db8d-672f93286ca2"
      },
      "outputs": [
        {
          "output_type": "stream",
          "name": "stdout",
          "text": [
            "Collecting pyspark\n",
            "  Downloading pyspark-3.5.0.tar.gz (316.9 MB)\n",
            "\u001b[2K     \u001b[90m━━━━━━━━━━━━━━━━━━━━━━━━━━━━━━━━━━━━━━━━\u001b[0m \u001b[32m316.9/316.9 MB\u001b[0m \u001b[31m1.2 MB/s\u001b[0m eta \u001b[36m0:00:00\u001b[0m\n",
            "\u001b[?25h  Preparing metadata (setup.py) ... \u001b[?25l\u001b[?25hdone\n",
            "Requirement already satisfied: py4j==0.10.9.7 in /usr/local/lib/python3.10/dist-packages (from pyspark) (0.10.9.7)\n",
            "Building wheels for collected packages: pyspark\n",
            "  Building wheel for pyspark (setup.py) ... \u001b[?25l\u001b[?25hdone\n",
            "  Created wheel for pyspark: filename=pyspark-3.5.0-py2.py3-none-any.whl size=317425344 sha256=7e362df0d2e373943e126ded1a3f9ef34788d2efcf4e4f6df3b0b6718e8ef33d\n",
            "  Stored in directory: /root/.cache/pip/wheels/41/4e/10/c2cf2467f71c678cfc8a6b9ac9241e5e44a01940da8fbb17fc\n",
            "Successfully built pyspark\n",
            "Installing collected packages: pyspark\n",
            "Successfully installed pyspark-3.5.0\n"
          ]
        }
      ],
      "source": [
        "pip install pyspark"
      ]
    },
    {
      "cell_type": "code",
      "source": [
        "from pyspark.sql import SparkSession\n",
        "\n",
        "spark = SparkSession.builder.appName(\"tpspark \").getOrCreate()"
      ],
      "metadata": {
        "id": "oxrWOpG2PNOf"
      },
      "execution_count": null,
      "outputs": []
    },
    {
      "cell_type": "code",
      "source": [
        "from pyspark import SparkContext\n",
        "sc = SparkContext.getOrCreate()\n"
      ],
      "metadata": {
        "id": "5vTueq7IRRnW"
      },
      "execution_count": null,
      "outputs": []
    },
    {
      "cell_type": "code",
      "source": [
        "rdd = sc.textFile(\"wash_dc_crime_incidents_2013.csv\")"
      ],
      "metadata": {
        "id": "iyU3qLGoPjvv"
      },
      "execution_count": null,
      "outputs": []
    },
    {
      "cell_type": "code",
      "source": [
        "rdd.count()"
      ],
      "metadata": {
        "colab": {
          "base_uri": "https://localhost:8080/"
        },
        "id": "SogST0JSRcjk",
        "outputId": "804a18a9-3aa7-4d9c-9888-ba26110aa64c"
      },
      "execution_count": null,
      "outputs": [
        {
          "output_type": "execute_result",
          "data": {
            "text/plain": [
              "35898"
            ]
          },
          "metadata": {},
          "execution_count": 8
        }
      ]
    },
    {
      "cell_type": "code",
      "source": [
        "rdd.take(5)"
      ],
      "metadata": {
        "colab": {
          "base_uri": "https://localhost:8080/"
        },
        "id": "Il2kSk0zRkMW",
        "outputId": "eeff8c21-9458-4a2a-d416-b485ae124e91"
      },
      "execution_count": null,
      "outputs": [
        {
          "output_type": "execute_result",
          "data": {
            "text/plain": [
              "['CCN,REPORTDATETIME,SHIFT,OFFENSE,METHOD,LASTMODIFIEDDATE,BLOCKSITEADDRESS,BLOCKXCOORD,BLOCKYCOORD,WARD,ANC,DISTRICT,PSA,NEIGHBORHOODCLUSTER,BUSINESSIMPROVEMENTDISTRICT,BLOCK_GROUP,CENSUS_TRACT,VOTING_PRECINCT,START_DATE,END_DATE',\n",
              " '04104147,4/16/2013 12:00:00 AM,MIDNIGHT,HOMICIDE,KNIFE,8/7/2015 8:34:01 AM,1500 - 1599 BLOCK OF 1ST STREET SW,398943,133729,6,6D,FIRST,105,9,,006400 2,006400,Precinct 127,7/27/2004 8:30:00 PM,7/27/2004 8:30:00 PM',\n",
              " '05047867,6/5/2013 12:00:00 AM,MIDNIGHT,SEX ABUSE,KNIFE,8/7/2015 8:32:22 AM,6500  - 6599 BLOCK OF PINEY BRANCH ROAD NW,397769,144596,4,4B,FOURTH,402,17,,001901 4,001901,Precinct 59,4/15/2005 12:30:00 PM,',\n",
              " '07083463,7/8/2013 12:00:00 AM,MIDNIGHT,SEX ABUSE,OTHERS,8/7/2015 8:32:15 AM,1800 - 1810 BLOCK OF COLUMBIA ROAD NW,396275,139402,1,1C,THIRD,303,1,ADAMS MORGAN,004002 1,004002,Precinct 25,7/14/2007 3:00:00 PM,',\n",
              " '09172197,4/8/2013 12:00:00 AM,MIDNIGHT,SEX ABUSE,OTHERS,8/7/2015 8:33:35 AM,2322 - 2499 BLOCK OF ONTARIO ROAD NW,396518,139335,1,1C,THIRD,303,1,,003800 1,003800,Precinct 24,5/22/2009 1:00:00 PM,5/22/2009 3:00:00 AM']"
            ]
          },
          "metadata": {},
          "execution_count": 9
        }
      ]
    },
    {
      "cell_type": "code",
      "source": [
        "rdd.first()"
      ],
      "metadata": {
        "colab": {
          "base_uri": "https://localhost:8080/",
          "height": 54
        },
        "id": "nNaopiJCR9Q0",
        "outputId": "9c7cfd2e-5d7d-4193-e229-54fd5e8e6252"
      },
      "execution_count": null,
      "outputs": [
        {
          "output_type": "execute_result",
          "data": {
            "text/plain": [
              "'CCN,REPORTDATETIME,SHIFT,OFFENSE,METHOD,LASTMODIFIEDDATE,BLOCKSITEADDRESS,BLOCKXCOORD,BLOCKYCOORD,WARD,ANC,DISTRICT,PSA,NEIGHBORHOODCLUSTER,BUSINESSIMPROVEMENTDISTRICT,BLOCK_GROUP,CENSUS_TRACT,VOTING_PRECINCT,START_DATE,END_DATE'"
            ],
            "application/vnd.google.colaboratory.intrinsic+json": {
              "type": "string"
            }
          },
          "metadata": {},
          "execution_count": 10
        }
      ]
    },
    {
      "cell_type": "code",
      "source": [
        "header = rdd.first()\n",
        "noHeaderRdd = rdd.filter(lambda row: row != header)\n",
        "noHeaderRdd.first()"
      ],
      "metadata": {
        "colab": {
          "base_uri": "https://localhost:8080/",
          "height": 54
        },
        "id": "9pF9b5-xSAos",
        "outputId": "a096c9ea-ef6b-4329-8798-984a1d508f1c"
      },
      "execution_count": null,
      "outputs": [
        {
          "output_type": "execute_result",
          "data": {
            "text/plain": [
              "'04104147,4/16/2013 12:00:00 AM,MIDNIGHT,HOMICIDE,KNIFE,8/7/2015 8:34:01 AM,1500 - 1599 BLOCK OF 1ST STREET SW,398943,133729,6,6D,FIRST,105,9,,006400 2,006400,Precinct 127,7/27/2004 8:30:00 PM,7/27/2004 8:30:00 PM'"
            ],
            "application/vnd.google.colaboratory.intrinsic+json": {
              "type": "string"
            }
          },
          "metadata": {},
          "execution_count": 12
        }
      ]
    },
    {
      "cell_type": "code",
      "source": [
        "noHeaderRdd.saveAsTextFile('wash_dc_crime_incidents_2013_without_header.csv')"
      ],
      "metadata": {
        "id": "4IgI15NbT81W"
      },
      "execution_count": null,
      "outputs": []
    },
    {
      "cell_type": "code",
      "source": [
        "CrimeData = noHeaderRdd.map(lambda x : x.split(','))"
      ],
      "metadata": {
        "id": "1DjxI2O3UlOG"
      },
      "execution_count": null,
      "outputs": []
    },
    {
      "cell_type": "code",
      "source": [
        "CrimeData.take(2)"
      ],
      "metadata": {
        "colab": {
          "base_uri": "https://localhost:8080/"
        },
        "id": "8LId1XBWW4kF",
        "outputId": "fb104b11-abfd-4622-8d71-a34c003a15b4"
      },
      "execution_count": null,
      "outputs": [
        {
          "output_type": "execute_result",
          "data": {
            "text/plain": [
              "[['04104147',\n",
              "  '4/16/2013 12:00:00 AM',\n",
              "  'MIDNIGHT',\n",
              "  'HOMICIDE',\n",
              "  'KNIFE',\n",
              "  '8/7/2015 8:34:01 AM',\n",
              "  '1500 - 1599 BLOCK OF 1ST STREET SW',\n",
              "  '398943',\n",
              "  '133729',\n",
              "  '6',\n",
              "  '6D',\n",
              "  'FIRST',\n",
              "  '105',\n",
              "  '9',\n",
              "  '',\n",
              "  '006400 2',\n",
              "  '006400',\n",
              "  'Precinct 127',\n",
              "  '7/27/2004 8:30:00 PM',\n",
              "  '7/27/2004 8:30:00 PM'],\n",
              " ['05047867',\n",
              "  '6/5/2013 12:00:00 AM',\n",
              "  'MIDNIGHT',\n",
              "  'SEX ABUSE',\n",
              "  'KNIFE',\n",
              "  '8/7/2015 8:32:22 AM',\n",
              "  '6500  - 6599 BLOCK OF PINEY BRANCH ROAD NW',\n",
              "  '397769',\n",
              "  '144596',\n",
              "  '4',\n",
              "  '4B',\n",
              "  'FOURTH',\n",
              "  '402',\n",
              "  '17',\n",
              "  '',\n",
              "  '001901 4',\n",
              "  '001901',\n",
              "  'Precinct 59',\n",
              "  '4/15/2005 12:30:00 PM',\n",
              "  '']]"
            ]
          },
          "metadata": {},
          "execution_count": 19
        }
      ]
    },
    {
      "cell_type": "code",
      "source": [
        " from collections import namedtuple\n",
        "\n",
        "CrimeDataTuple = namedtuple('CrimeData', ['date_string', 'time_string', 'offense', 'latitude', 'longitude'])\n",
        "\n",
        "def map_line(line):\n",
        "  cols = line.split(\",\")\n",
        "  return CrimeDataTuple(date_string=cols[10], time_string=cols[11], offense=cols[3], latitude=cols[7], longitude=cols[8])\n",
        "\n",
        "CrimeDataT = noHeaderRdd.map(map_line)\n",
        "\n",
        "CrimeDataT.take(10)"
      ],
      "metadata": {
        "colab": {
          "base_uri": "https://localhost:8080/"
        },
        "id": "DgfikSCGasoY",
        "outputId": "6bac0e3d-80a1-4471-82a9-3393622ed341"
      },
      "execution_count": null,
      "outputs": [
        {
          "output_type": "execute_result",
          "data": {
            "text/plain": [
              "[CrimeData(date_string='6D', time_string='FIRST', offense='HOMICIDE', latitude='398943', longitude='133729'),\n",
              " CrimeData(date_string='4B', time_string='FOURTH', offense='SEX ABUSE', latitude='397769', longitude='144596'),\n",
              " CrimeData(date_string='1C', time_string='THIRD', offense='SEX ABUSE', latitude='396275', longitude='139402'),\n",
              " CrimeData(date_string='1C', time_string='THIRD', offense='SEX ABUSE', latitude='396518', longitude='139335'),\n",
              " CrimeData(date_string='2A', time_string='SECOND', offense='SEX ABUSE', latitude='395232', longitude='136881'),\n",
              " CrimeData(date_string='5C', time_string='FIFTH', offense='SEX ABUSE', latitude='402158.31', longitude='138824.53'),\n",
              " CrimeData(date_string='7B', time_string='SIXTH', offense='SEX ABUSE', latitude='402837', longitude='133810'),\n",
              " CrimeData(date_string='8D', time_string='SEVENTH', offense='SEX ABUSE', latitude='398794', longitude='127300'),\n",
              " CrimeData(date_string='5E', time_string='FIFTH', offense='HOMICIDE', latitude='400331', longitude='140004'),\n",
              " CrimeData(date_string='7F', time_string='SIXTH', offense='HOMICIDE', latitude='404939', longitude='135095')]"
            ]
          },
          "metadata": {},
          "execution_count": 24
        }
      ]
    },
    {
      "cell_type": "code",
      "source": [
        "group_by_offense_rdd_tuple = CrimeDataT.groupBy(lambda x: x.offense)"
      ],
      "metadata": {
        "id": "zSSR23vBbOu6"
      },
      "execution_count": null,
      "outputs": []
    },
    {
      "cell_type": "code",
      "source": [
        "group_by_offense_rdd_tuple.take(5)"
      ],
      "metadata": {
        "colab": {
          "base_uri": "https://localhost:8080/"
        },
        "id": "1VSuDjhlcCtl",
        "outputId": "0bb1934a-795d-4be9-d516-46cd03ca16a2"
      },
      "execution_count": null,
      "outputs": [
        {
          "output_type": "execute_result",
          "data": {
            "text/plain": [
              "[('HOMICIDE', <pyspark.resultiterable.ResultIterable at 0x7e728a2cd2a0>),\n",
              " ('BURGLARY', <pyspark.resultiterable.ResultIterable at 0x7e72b07c0b20>),\n",
              " ('ROBBERY', <pyspark.resultiterable.ResultIterable at 0x7e728a28bc70>),\n",
              " ('THEFT F/AUTO', <pyspark.resultiterable.ResultIterable at 0x7e72b07c0f10>),\n",
              " ('ASSAULT W/DANGEROUS WEAPON',\n",
              "  <pyspark.resultiterable.ResultIterable at 0x7e72b07c0a60>)]"
            ]
          },
          "metadata": {},
          "execution_count": 27
        }
      ]
    },
    {
      "cell_type": "code",
      "source": [
        "offense_counts = group_by_offense_rdd_tuple.map(lambda g: (g[0], len(g[1])))\n",
        "offense_counts.take(5)"
      ],
      "metadata": {
        "colab": {
          "base_uri": "https://localhost:8080/"
        },
        "id": "ydrDgueYckJw",
        "outputId": "b54ee0ee-c7a1-4052-8924-60566a3ee8b5"
      },
      "execution_count": null,
      "outputs": [
        {
          "output_type": "execute_result",
          "data": {
            "text/plain": [
              "[('HOMICIDE', 104),\n",
              " ('BURGLARY', 3370),\n",
              " ('ROBBERY', 4071),\n",
              " ('THEFT F/AUTO', 10130),\n",
              " ('ASSAULT W/DANGEROUS WEAPON', 2309)]"
            ]
          },
          "metadata": {},
          "execution_count": 28
        }
      ]
    },
    {
      "cell_type": "code",
      "source": [],
      "metadata": {
        "id": "27gdgC5cfPgz"
      },
      "execution_count": null,
      "outputs": []
    },
    {
      "cell_type": "code",
      "source": [],
      "metadata": {
        "id": "A2uEk7Xr4TWi"
      },
      "execution_count": null,
      "outputs": []
    }
  ]
}